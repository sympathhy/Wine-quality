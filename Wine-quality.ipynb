{
 "cells": [
  {
   "cell_type": "code",
   "execution_count": 4,
   "id": "438ddd13",
   "metadata": {},
   "outputs": [],
   "source": [
    "import pandas as pd\n",
    "import numpy as np\n",
    "import seaborn as sns\n",
    "import matplotlib.pyplot as plt"
   ]
  },
  {
   "cell_type": "code",
   "execution_count": 5,
   "id": "12a88615",
   "metadata": {},
   "outputs": [
    {
     "data": {
      "text/html": [
       "<div>\n",
       "<style scoped>\n",
       "    .dataframe tbody tr th:only-of-type {\n",
       "        vertical-align: middle;\n",
       "    }\n",
       "\n",
       "    .dataframe tbody tr th {\n",
       "        vertical-align: top;\n",
       "    }\n",
       "\n",
       "    .dataframe thead th {\n",
       "        text-align: right;\n",
       "    }\n",
       "</style>\n",
       "<table border=\"1\" class=\"dataframe\">\n",
       "  <thead>\n",
       "    <tr style=\"text-align: right;\">\n",
       "      <th></th>\n",
       "      <th>fixed acidity</th>\n",
       "      <th>volatile acidity</th>\n",
       "      <th>citric acid</th>\n",
       "      <th>residual sugar</th>\n",
       "      <th>chlorides</th>\n",
       "      <th>free sulfur dioxide</th>\n",
       "      <th>total sulfur dioxide</th>\n",
       "      <th>density</th>\n",
       "      <th>pH</th>\n",
       "      <th>sulphates</th>\n",
       "      <th>alcohol</th>\n",
       "      <th>quality</th>\n",
       "    </tr>\n",
       "  </thead>\n",
       "  <tbody>\n",
       "    <tr>\n",
       "      <th>1594</th>\n",
       "      <td>6.2</td>\n",
       "      <td>0.600</td>\n",
       "      <td>0.08</td>\n",
       "      <td>2.0</td>\n",
       "      <td>0.090</td>\n",
       "      <td>32.0</td>\n",
       "      <td>44.0</td>\n",
       "      <td>0.99490</td>\n",
       "      <td>3.45</td>\n",
       "      <td>0.58</td>\n",
       "      <td>10.5</td>\n",
       "      <td>5</td>\n",
       "    </tr>\n",
       "    <tr>\n",
       "      <th>1595</th>\n",
       "      <td>5.9</td>\n",
       "      <td>0.550</td>\n",
       "      <td>0.10</td>\n",
       "      <td>2.2</td>\n",
       "      <td>0.062</td>\n",
       "      <td>39.0</td>\n",
       "      <td>51.0</td>\n",
       "      <td>0.99512</td>\n",
       "      <td>3.52</td>\n",
       "      <td>0.76</td>\n",
       "      <td>11.2</td>\n",
       "      <td>6</td>\n",
       "    </tr>\n",
       "    <tr>\n",
       "      <th>1596</th>\n",
       "      <td>6.3</td>\n",
       "      <td>0.510</td>\n",
       "      <td>0.13</td>\n",
       "      <td>2.3</td>\n",
       "      <td>0.076</td>\n",
       "      <td>29.0</td>\n",
       "      <td>40.0</td>\n",
       "      <td>0.99574</td>\n",
       "      <td>3.42</td>\n",
       "      <td>0.75</td>\n",
       "      <td>11.0</td>\n",
       "      <td>6</td>\n",
       "    </tr>\n",
       "    <tr>\n",
       "      <th>1597</th>\n",
       "      <td>5.9</td>\n",
       "      <td>0.645</td>\n",
       "      <td>0.12</td>\n",
       "      <td>2.0</td>\n",
       "      <td>0.075</td>\n",
       "      <td>32.0</td>\n",
       "      <td>44.0</td>\n",
       "      <td>0.99547</td>\n",
       "      <td>3.57</td>\n",
       "      <td>0.71</td>\n",
       "      <td>10.2</td>\n",
       "      <td>5</td>\n",
       "    </tr>\n",
       "    <tr>\n",
       "      <th>1598</th>\n",
       "      <td>6.0</td>\n",
       "      <td>0.310</td>\n",
       "      <td>0.47</td>\n",
       "      <td>3.6</td>\n",
       "      <td>0.067</td>\n",
       "      <td>18.0</td>\n",
       "      <td>42.0</td>\n",
       "      <td>0.99549</td>\n",
       "      <td>3.39</td>\n",
       "      <td>0.66</td>\n",
       "      <td>11.0</td>\n",
       "      <td>6</td>\n",
       "    </tr>\n",
       "  </tbody>\n",
       "</table>\n",
       "</div>"
      ],
      "text/plain": [
       "      fixed acidity  volatile acidity  citric acid  residual sugar  chlorides  \\\n",
       "1594            6.2             0.600         0.08             2.0      0.090   \n",
       "1595            5.9             0.550         0.10             2.2      0.062   \n",
       "1596            6.3             0.510         0.13             2.3      0.076   \n",
       "1597            5.9             0.645         0.12             2.0      0.075   \n",
       "1598            6.0             0.310         0.47             3.6      0.067   \n",
       "\n",
       "      free sulfur dioxide  total sulfur dioxide  density    pH  sulphates  \\\n",
       "1594                 32.0                  44.0  0.99490  3.45       0.58   \n",
       "1595                 39.0                  51.0  0.99512  3.52       0.76   \n",
       "1596                 29.0                  40.0  0.99574  3.42       0.75   \n",
       "1597                 32.0                  44.0  0.99547  3.57       0.71   \n",
       "1598                 18.0                  42.0  0.99549  3.39       0.66   \n",
       "\n",
       "      alcohol  quality  \n",
       "1594     10.5        5  \n",
       "1595     11.2        6  \n",
       "1596     11.0        6  \n",
       "1597     10.2        5  \n",
       "1598     11.0        6  "
      ]
     },
     "execution_count": 5,
     "metadata": {},
     "output_type": "execute_result"
    }
   ],
   "source": [
    "df = pd.read_csv('C:\\\\Users\\\\shinigami\\\\Datasets\\\\winequality-red.csv')\n",
    "df.tail()"
   ]
  },
  {
   "cell_type": "code",
   "execution_count": 6,
   "id": "3f8767ec",
   "metadata": {},
   "outputs": [
    {
     "data": {
      "text/plain": [
       "Index(['fixed acidity', 'volatile acidity', 'citric acid', 'residual sugar',\n",
       "       'chlorides', 'free sulfur dioxide', 'total sulfur dioxide', 'density',\n",
       "       'pH', 'sulphates', 'alcohol', 'quality'],\n",
       "      dtype='object')"
      ]
     },
     "execution_count": 6,
     "metadata": {},
     "output_type": "execute_result"
    }
   ],
   "source": [
    "df.columns"
   ]
  },
  {
   "cell_type": "code",
   "execution_count": 7,
   "id": "6adb74ff",
   "metadata": {},
   "outputs": [
    {
     "data": {
      "text/plain": [
       "19188"
      ]
     },
     "execution_count": 7,
     "metadata": {},
     "output_type": "execute_result"
    }
   ],
   "source": [
    "df.size"
   ]
  },
  {
   "cell_type": "code",
   "execution_count": 8,
   "id": "6c47051a",
   "metadata": {},
   "outputs": [
    {
     "data": {
      "text/plain": [
       "16308"
      ]
     },
     "execution_count": 8,
     "metadata": {},
     "output_type": "execute_result"
    }
   ],
   "source": [
    "df = df.drop_duplicates()\n",
    "df.size"
   ]
  },
  {
   "cell_type": "code",
   "execution_count": 9,
   "id": "5ab0f690",
   "metadata": {},
   "outputs": [
    {
     "data": {
      "text/plain": [
       "<Axes: xlabel='quality'>"
      ]
     },
     "execution_count": 9,
     "metadata": {},
     "output_type": "execute_result"
    },
    {
     "data": {
      "image/png": "[encoded data removed]",
      "text/plain": [
       "<Figure size 640x480 with 1 Axes>"
      ]
     },
     "metadata": {},
     "output_type": "display_data"
    }
   ],
   "source": [
    "sns.boxplot(data = df, x = df['quality'])"
   ]
  },
  {
   "cell_type": "code",
   "execution_count": 10,
   "id": "eded8697",
   "metadata": {},
   "outputs": [
    {
     "data": {
      "text/plain": [
       "5    577\n",
       "6    535\n",
       "7    167\n",
       "4     53\n",
       "8     17\n",
       "3     10\n",
       "Name: quality, dtype: int64"
      ]
     },
     "execution_count": 10,
     "metadata": {},
     "output_type": "execute_result"
    }
   ],
   "source": [
    "df['quality'].value_counts()"
   ]
  },
  {
   "cell_type": "code",
   "execution_count": 11,
   "id": "4811f330",
   "metadata": {},
   "outputs": [
    {
     "name": "stdout",
     "output_type": "stream",
     "text": [
      "<class 'pandas.core.frame.DataFrame'>\n",
      "Int64Index: 1359 entries, 0 to 1598\n",
      "Data columns (total 12 columns):\n",
      " #   Column                Non-Null Count  Dtype  \n",
      "---  ------                --------------  -----  \n",
      " 0   fixed acidity         1359 non-null   float64\n",
      " 1   volatile acidity      1359 non-null   float64\n",
      " 2   citric acid           1359 non-null   float64\n",
      " 3   residual sugar        1359 non-null   float64\n",
      " 4   chlorides             1359 non-null   float64\n",
      " 5   free sulfur dioxide   1359 non-null   float64\n",
      " 6   total sulfur dioxide  1359 non-null   float64\n",
      " 7   density               1359 non-null   float64\n",
      " 8   pH                    1359 non-null   float64\n",
      " 9   sulphates             1359 non-null   float64\n",
      " 10  alcohol               1359 non-null   float64\n",
      " 11  quality               1359 non-null   int64  \n",
      "dtypes: float64(11), int64(1)\n",
      "memory usage: 138.0 KB\n"
     ]
    }
   ],
   "source": [
    "df.info()"
   ]
  },
  {
   "cell_type": "code",
   "execution_count": 12,
   "id": "6d2a6208",
   "metadata": {},
   "outputs": [],
   "source": [
    "df_with_3_and_8 = df.copy()\n",
    "df_without = df.copy()"
   ]
  },
  {
   "cell_type": "code",
   "execution_count": 13,
   "id": "64fb9f14",
   "metadata": {},
   "outputs": [],
   "source": [
    "df_without['quality'] = df['quality'].replace(3, 4)\n",
    "df_without['quality'] = df['quality'].replace(8, 7)"
   ]
  },
  {
   "cell_type": "code",
   "execution_count": 14,
   "id": "021ff7d8",
   "metadata": {},
   "outputs": [
    {
     "name": "stdout",
     "output_type": "stream",
     "text": [
      "<class 'pandas.core.frame.DataFrame'>\n",
      "Int64Index: 1359 entries, 0 to 1598\n",
      "Data columns (total 12 columns):\n",
      " #   Column                Non-Null Count  Dtype  \n",
      "---  ------                --------------  -----  \n",
      " 0   fixed acidity         1359 non-null   float64\n",
      " 1   volatile acidity      1359 non-null   float64\n",
      " 2   citric acid           1359 non-null   float64\n",
      " 3   residual sugar        1359 non-null   float64\n",
      " 4   chlorides             1359 non-null   float64\n",
      " 5   free sulfur dioxide   1359 non-null   float64\n",
      " 6   total sulfur dioxide  1359 non-null   float64\n",
      " 7   density               1359 non-null   float64\n",
      " 8   pH                    1359 non-null   float64\n",
      " 9   sulphates             1359 non-null   float64\n",
      " 10  alcohol               1359 non-null   float64\n",
      " 11  quality               1359 non-null   int64  \n",
      "dtypes: float64(11), int64(1)\n",
      "memory usage: 138.0 KB\n"
     ]
    }
   ],
   "source": [
    "df_without.info()"
   ]
  },
  {
   "cell_type": "code",
   "execution_count": 15,
   "id": "6cc5cecd",
   "metadata": {},
   "outputs": [
    {
     "data": {
      "text/plain": [
       "0.6102941176470589"
      ]
     },
     "execution_count": 15,
     "metadata": {},
     "output_type": "execute_result"
    }
   ],
   "source": [
    "from sklearn.ensemble import RandomForestClassifier\n",
    "from sklearn.model_selection import train_test_split, GridSearchCV\n",
    "\n",
    "x_train, x_test, y_train, y_test = train_test_split(df_without.drop('quality', axis = 1), df_without['quality'], test_size = 0.2)\n",
    "\n",
    "clf = RandomForestClassifier(max_depth = 2, criterion = 'gini')\n",
    "parameters = {'max_depth': range(2, 10), 'min_samples_split': range(2, 10)}\n",
    "gsv = GridSearchCV(clf, parameters)\n",
    "gsv.fit(x_train, y_train)\n",
    "gsv.score(x_test, y_test)"
   ]
  },
  {
   "cell_type": "code",
   "execution_count": 16,
   "id": "07509692",
   "metadata": {},
   "outputs": [
    {
     "name": "stdout",
     "output_type": "stream",
     "text": [
      "RandomForestClassifier(max_depth=9, min_samples_split=8) \n",
      " {'max_depth': 9, 'min_samples_split': 8}\n"
     ]
    }
   ],
   "source": [
    "print(gsv.best_estimator_, '\\n', gsv.best_params_)"
   ]
  },
  {
   "cell_type": "code",
   "execution_count": 17,
   "id": "74ab2256",
   "metadata": {},
   "outputs": [
    {
     "data": {
      "text/plain": [
       "0.5772058823529411"
      ]
     },
     "execution_count": 17,
     "metadata": {},
     "output_type": "execute_result"
    }
   ],
   "source": [
    "x_train, x_test, y_train, y_test = train_test_split(df_with_3_and_8.drop('quality', axis = 1), df_with_3_and_8['quality'], test_size = 0.2)\n",
    "\n",
    "clf1 = RandomForestClassifier(max_depth = 2, criterion = 'gini')\n",
    "parameters1 = {'max_depth': range(2, 10), 'min_samples_split': range(2, 10)}\n",
    "gsv1 = GridSearchCV(clf1, parameters1)\n",
    "gsv1.fit(x_train, y_train)\n",
    "gsv1.score(x_test, y_test)"
   ]
  },
  {
   "cell_type": "code",
   "execution_count": 18,
   "id": "0a5ddf0e",
   "metadata": {},
   "outputs": [
    {
     "name": "stdout",
     "output_type": "stream",
     "text": [
      "RandomForestClassifier(max_depth=9, min_samples_split=9) \n",
      " {'max_depth': 9, 'min_samples_split': 9}\n"
     ]
    }
   ],
   "source": [
    "print(gsv1.best_estimator_, '\\n', gsv1.best_params_)"
   ]
  },
  {
   "cell_type": "code",
   "execution_count": 19,
   "id": "6fdcb8ea",
   "metadata": {},
   "outputs": [
    {
     "data": {
      "text/plain": [
       "<Axes: >"
      ]
     },
     "execution_count": 19,
     "metadata": {},
     "output_type": "execute_result"
    },
    {
     "data": {
      "image/png": "[encoded data removed]",
      "text/plain": [
       "<Figure size 1100x900 with 2 Axes>"
      ]
     },
     "metadata": {},
     "output_type": "display_data"
    }
   ],
   "source": [
    "f, ax = plt.subplots(figsize=(11, 9))\n",
    "sns.heatmap(df.corr(), annot = True)"
   ]
  },
  {
   "cell_type": "code",
   "execution_count": 20,
   "id": "4a5d68cc",
   "metadata": {},
   "outputs": [],
   "source": [
    "df_without_drop_col = df_without.drop(axis = 1, columns = ['volatile acidity', 'total sulfur dioxide', 'density'])"
   ]
  },
  {
   "cell_type": "code",
   "execution_count": 21,
   "id": "c795c99a",
   "metadata": {},
   "outputs": [
    {
     "data": {
      "text/html": [
       "<div>\n",
       "<style scoped>\n",
       "    .dataframe tbody tr th:only-of-type {\n",
       "        vertical-align: middle;\n",
       "    }\n",
       "\n",
       "    .dataframe tbody tr th {\n",
       "        vertical-align: top;\n",
       "    }\n",
       "\n",
       "    .dataframe thead th {\n",
       "        text-align: right;\n",
       "    }\n",
       "</style>\n",
       "<table border=\"1\" class=\"dataframe\">\n",
       "  <thead>\n",
       "    <tr style=\"text-align: right;\">\n",
       "      <th></th>\n",
       "      <th>fixed acidity</th>\n",
       "      <th>citric acid</th>\n",
       "      <th>residual sugar</th>\n",
       "      <th>chlorides</th>\n",
       "      <th>free sulfur dioxide</th>\n",
       "      <th>pH</th>\n",
       "      <th>sulphates</th>\n",
       "      <th>alcohol</th>\n",
       "      <th>quality</th>\n",
       "    </tr>\n",
       "  </thead>\n",
       "  <tbody>\n",
       "    <tr>\n",
       "      <th>0</th>\n",
       "      <td>7.4</td>\n",
       "      <td>0.00</td>\n",
       "      <td>1.9</td>\n",
       "      <td>0.076</td>\n",
       "      <td>11.0</td>\n",
       "      <td>3.51</td>\n",
       "      <td>0.56</td>\n",
       "      <td>9.4</td>\n",
       "      <td>5</td>\n",
       "    </tr>\n",
       "    <tr>\n",
       "      <th>1</th>\n",
       "      <td>7.8</td>\n",
       "      <td>0.00</td>\n",
       "      <td>2.6</td>\n",
       "      <td>0.098</td>\n",
       "      <td>25.0</td>\n",
       "      <td>3.20</td>\n",
       "      <td>0.68</td>\n",
       "      <td>9.8</td>\n",
       "      <td>5</td>\n",
       "    </tr>\n",
       "    <tr>\n",
       "      <th>2</th>\n",
       "      <td>7.8</td>\n",
       "      <td>0.04</td>\n",
       "      <td>2.3</td>\n",
       "      <td>0.092</td>\n",
       "      <td>15.0</td>\n",
       "      <td>3.26</td>\n",
       "      <td>0.65</td>\n",
       "      <td>9.8</td>\n",
       "      <td>5</td>\n",
       "    </tr>\n",
       "    <tr>\n",
       "      <th>3</th>\n",
       "      <td>11.2</td>\n",
       "      <td>0.56</td>\n",
       "      <td>1.9</td>\n",
       "      <td>0.075</td>\n",
       "      <td>17.0</td>\n",
       "      <td>3.16</td>\n",
       "      <td>0.58</td>\n",
       "      <td>9.8</td>\n",
       "      <td>6</td>\n",
       "    </tr>\n",
       "    <tr>\n",
       "      <th>5</th>\n",
       "      <td>7.4</td>\n",
       "      <td>0.00</td>\n",
       "      <td>1.8</td>\n",
       "      <td>0.075</td>\n",
       "      <td>13.0</td>\n",
       "      <td>3.51</td>\n",
       "      <td>0.56</td>\n",
       "      <td>9.4</td>\n",
       "      <td>5</td>\n",
       "    </tr>\n",
       "    <tr>\n",
       "      <th>...</th>\n",
       "      <td>...</td>\n",
       "      <td>...</td>\n",
       "      <td>...</td>\n",
       "      <td>...</td>\n",
       "      <td>...</td>\n",
       "      <td>...</td>\n",
       "      <td>...</td>\n",
       "      <td>...</td>\n",
       "      <td>...</td>\n",
       "    </tr>\n",
       "    <tr>\n",
       "      <th>1593</th>\n",
       "      <td>6.8</td>\n",
       "      <td>0.08</td>\n",
       "      <td>1.9</td>\n",
       "      <td>0.068</td>\n",
       "      <td>28.0</td>\n",
       "      <td>3.42</td>\n",
       "      <td>0.82</td>\n",
       "      <td>9.5</td>\n",
       "      <td>6</td>\n",
       "    </tr>\n",
       "    <tr>\n",
       "      <th>1594</th>\n",
       "      <td>6.2</td>\n",
       "      <td>0.08</td>\n",
       "      <td>2.0</td>\n",
       "      <td>0.090</td>\n",
       "      <td>32.0</td>\n",
       "      <td>3.45</td>\n",
       "      <td>0.58</td>\n",
       "      <td>10.5</td>\n",
       "      <td>5</td>\n",
       "    </tr>\n",
       "    <tr>\n",
       "      <th>1595</th>\n",
       "      <td>5.9</td>\n",
       "      <td>0.10</td>\n",
       "      <td>2.2</td>\n",
       "      <td>0.062</td>\n",
       "      <td>39.0</td>\n",
       "      <td>3.52</td>\n",
       "      <td>0.76</td>\n",
       "      <td>11.2</td>\n",
       "      <td>6</td>\n",
       "    </tr>\n",
       "    <tr>\n",
       "      <th>1597</th>\n",
       "      <td>5.9</td>\n",
       "      <td>0.12</td>\n",
       "      <td>2.0</td>\n",
       "      <td>0.075</td>\n",
       "      <td>32.0</td>\n",
       "      <td>3.57</td>\n",
       "      <td>0.71</td>\n",
       "      <td>10.2</td>\n",
       "      <td>5</td>\n",
       "    </tr>\n",
       "    <tr>\n",
       "      <th>1598</th>\n",
       "      <td>6.0</td>\n",
       "      <td>0.47</td>\n",
       "      <td>3.6</td>\n",
       "      <td>0.067</td>\n",
       "      <td>18.0</td>\n",
       "      <td>3.39</td>\n",
       "      <td>0.66</td>\n",
       "      <td>11.0</td>\n",
       "      <td>6</td>\n",
       "    </tr>\n",
       "  </tbody>\n",
       "</table>\n",
       "<p>1359 rows × 9 columns</p>\n",
       "</div>"
      ],
      "text/plain": [
       "      fixed acidity  citric acid  residual sugar  chlorides  \\\n",
       "0               7.4         0.00             1.9      0.076   \n",
       "1               7.8         0.00             2.6      0.098   \n",
       "2               7.8         0.04             2.3      0.092   \n",
       "3              11.2         0.56             1.9      0.075   \n",
       "5               7.4         0.00             1.8      0.075   \n",
       "...             ...          ...             ...        ...   \n",
       "1593            6.8         0.08             1.9      0.068   \n",
       "1594            6.2         0.08             2.0      0.090   \n",
       "1595            5.9         0.10             2.2      0.062   \n",
       "1597            5.9         0.12             2.0      0.075   \n",
       "1598            6.0         0.47             3.6      0.067   \n",
       "\n",
       "      free sulfur dioxide    pH  sulphates  alcohol  quality  \n",
       "0                    11.0  3.51       0.56      9.4        5  \n",
       "1                    25.0  3.20       0.68      9.8        5  \n",
       "2                    15.0  3.26       0.65      9.8        5  \n",
       "3                    17.0  3.16       0.58      9.8        6  \n",
       "5                    13.0  3.51       0.56      9.4        5  \n",
       "...                   ...   ...        ...      ...      ...  \n",
       "1593                 28.0  3.42       0.82      9.5        6  \n",
       "1594                 32.0  3.45       0.58     10.5        5  \n",
       "1595                 39.0  3.52       0.76     11.2        6  \n",
       "1597                 32.0  3.57       0.71     10.2        5  \n",
       "1598                 18.0  3.39       0.66     11.0        6  \n",
       "\n",
       "[1359 rows x 9 columns]"
      ]
     },
     "execution_count": 21,
     "metadata": {},
     "output_type": "execute_result"
    }
   ],
   "source": [
    "df_without_drop_col"
   ]
  },
  {
   "cell_type": "code",
   "execution_count": 41,
   "id": "8cd9432f",
   "metadata": {},
   "outputs": [],
   "source": [
    "df_without_drop_col['quality'] = df_without_drop_col['quality'].apply(lambda x: x-2)"
   ]
  },
  {
   "cell_type": "code",
   "execution_count": 42,
   "id": "73197680",
   "metadata": {},
   "outputs": [
    {
     "data": {
      "text/plain": [
       "0.6139705882352942"
      ]
     },
     "execution_count": 42,
     "metadata": {},
     "output_type": "execute_result"
    }
   ],
   "source": [
    "x_train, x_test, y_train, y_test = train_test_split(df_without_drop_col.drop('quality', axis = 1), df_without_drop_col['quality'], test_size = 0.2)\n",
    "\n",
    "clf2 = RandomForestClassifier(max_depth = 2, criterion = 'gini')\n",
    "parameters2 = {'max_depth': range(2, 10), 'min_samples_split': range(2, 10)}\n",
    "gsv2 = GridSearchCV(clf2, parameters2)\n",
    "gsv2.fit(x_train, y_train)\n",
    "gsv2.score(x_test, y_test)"
   ]
  },
  {
   "cell_type": "code",
   "execution_count": 23,
   "id": "4a1feb8e",
   "metadata": {},
   "outputs": [
    {
     "name": "stdout",
     "output_type": "stream",
     "text": [
      "RandomForestClassifier(max_depth=6, min_samples_split=3)\n",
      "{'max_depth': 6, 'min_samples_split': 3}\n"
     ]
    }
   ],
   "source": [
    "print(gsv2.best_estimator_, end = '\\n')\n",
    "print(gsv2.best_params_)"
   ]
  },
  {
   "cell_type": "markdown",
   "id": "8282b0a6",
   "metadata": {},
   "source": [
    "Нейронка"
   ]
  },
  {
   "cell_type": "code",
   "execution_count": 25,
   "id": "6e1105fe",
   "metadata": {},
   "outputs": [],
   "source": [
    "from tensorflow import keras\n",
    "from tensorflow.keras.datasets import mnist\n",
    "from tensorflow.keras.layers import Dense, Flatten"
   ]
  },
  {
   "cell_type": "code",
   "execution_count": 26,
   "id": "8a18df6a",
   "metadata": {},
   "outputs": [
    {
     "name": "stdout",
     "output_type": "stream",
     "text": [
      "Downloading data from https://storage.googleapis.com/tensorflow/tf-keras-datasets/mnist.npz\n",
      "11490434/11490434 [==============================] - 2s 0us/step\n"
     ]
    }
   ],
   "source": [
    "(x, x_t), (y, y_t) = mnist.load_data()"
   ]
  },
  {
   "cell_type": "code",
   "execution_count": 27,
   "id": "a293551b",
   "metadata": {},
   "outputs": [
    {
     "data": {
      "text/plain": [
       "(28, 28)"
      ]
     },
     "execution_count": 27,
     "metadata": {},
     "output_type": "execute_result"
    }
   ],
   "source": [
    "y[0].shape"
   ]
  },
  {
   "cell_type": "code",
   "execution_count": 49,
   "id": "3b555908",
   "metadata": {},
   "outputs": [
    {
     "name": "stdout",
     "output_type": "stream",
     "text": [
      "Model: \"sequential_1\"\n",
      "_________________________________________________________________\n",
      " Layer (type)                Output Shape              Param #   \n",
      "=================================================================\n",
      " flatten_1 (Flatten)         (None, 11)                0         \n",
      "                                                                 \n",
      " dense_2 (Dense)             (None, 100)               1200      \n",
      "                                                                 \n",
      " dense_3 (Dense)             (None, 7)                 707       \n",
      "                                                                 \n",
      "=================================================================\n",
      "Total params: 1907 (7.45 KB)\n",
      "Trainable params: 1907 (7.45 KB)\n",
      "Non-trainable params: 0 (0.00 Byte)\n",
      "_________________________________________________________________\n",
      "None\n"
     ]
    }
   ],
   "source": [
    "model = keras.Sequential([\n",
    "    Flatten(input_shape = (11, 1)),\n",
    "    Dense(100, activation = 'relu'),\n",
    "    Dense(7, activation = 'softmax')\n",
    "])\n",
    "\n",
    "print(model.summary())"
   ]
  },
  {
   "cell_type": "code",
   "execution_count": 43,
   "id": "8bc410e2",
   "metadata": {},
   "outputs": [],
   "source": [
    "df['quality'] = df['quality'].apply(lambda x: x-2)"
   ]
  },
  {
   "cell_type": "code",
   "execution_count": 44,
   "id": "a7365450",
   "metadata": {},
   "outputs": [],
   "source": [
    "X_train, X_test, Y_train, Y_test = train_test_split(df.drop('quality', axis = 1), df['quality'], test_size = 0.2)"
   ]
  },
  {
   "cell_type": "code",
   "execution_count": 45,
   "id": "f6b3c38a",
   "metadata": {},
   "outputs": [],
   "source": [
    "X_train = np.array([list(X_train.loc[index]) for index, row in X_train.iterrows()])\n",
    "Y_train = np.array([[i] for i in Y_train])\n",
    "X_test = np.array([list(X_test.loc[index]) for index, row in X_test.iterrows()])\n",
    "Y_test = np.array([[i] for i in Y_test]) "
   ]
  },
  {
   "cell_type": "code",
   "execution_count": 46,
   "id": "afe77b59",
   "metadata": {},
   "outputs": [],
   "source": [
    "X_train = np.array([i.reshape(11, 1) for i in X_train])\n",
    "X_test = np.array([i.reshape(11, 1) for i in X_test])"
   ]
  },
  {
   "cell_type": "code",
   "execution_count": 47,
   "id": "21d01450",
   "metadata": {},
   "outputs": [],
   "source": [
    "Y_train_cat = keras.utils.to_categorical(Y_train)\n",
    "Y_test_cat = keras.utils.to_categorical(Y_test)"
   ]
  },
  {
   "cell_type": "code",
   "execution_count": 48,
   "id": "1086fe1f",
   "metadata": {},
   "outputs": [
    {
     "data": {
      "text/plain": [
       "(7,)"
      ]
     },
     "execution_count": 48,
     "metadata": {},
     "output_type": "execute_result"
    }
   ],
   "source": [
    "Y_train_cat[0].shape"
   ]
  },
  {
   "cell_type": "code",
   "execution_count": 50,
   "id": "d52157cc",
   "metadata": {},
   "outputs": [],
   "source": [
    "model.compile(optimizer = 'adam', \n",
    "              loss = 'categorical_crossentropy',\n",
    "              metrics = ['accuracy'])"
   ]
  },
  {
   "cell_type": "code",
   "execution_count": 51,
   "id": "4936f8aa",
   "metadata": {},
   "outputs": [
    {
     "name": "stdout",
     "output_type": "stream",
     "text": [
      "Epoch 1/100\n",
      "29/29 [==============================] - 1s 11ms/step - loss: 2.4908 - accuracy: 0.3304 - val_loss: 1.5407 - val_accuracy: 0.4207\n",
      "Epoch 2/100\n",
      "29/29 [==============================] - 0s 3ms/step - loss: 1.2674 - accuracy: 0.4713 - val_loss: 1.3371 - val_accuracy: 0.4817\n",
      "Epoch 3/100\n",
      "29/29 [==============================] - 0s 4ms/step - loss: 1.2169 - accuracy: 0.4713 - val_loss: 1.3568 - val_accuracy: 0.4573\n",
      "Epoch 4/100\n",
      "29/29 [==============================] - 0s 4ms/step - loss: 1.2025 - accuracy: 0.4572 - val_loss: 1.2789 - val_accuracy: 0.5061\n",
      "Epoch 5/100\n",
      "29/29 [==============================] - 0s 3ms/step - loss: 1.1748 - accuracy: 0.4789 - val_loss: 1.2739 - val_accuracy: 0.4695\n",
      "Epoch 6/100\n",
      "29/29 [==============================] - 0s 3ms/step - loss: 1.1589 - accuracy: 0.4919 - val_loss: 1.2412 - val_accuracy: 0.5122\n",
      "Epoch 7/100\n",
      "29/29 [==============================] - 0s 3ms/step - loss: 1.1693 - accuracy: 0.4789 - val_loss: 1.2423 - val_accuracy: 0.5000\n",
      "Epoch 8/100\n",
      "29/29 [==============================] - 0s 3ms/step - loss: 1.1400 - accuracy: 0.5060 - val_loss: 1.2667 - val_accuracy: 0.5061\n",
      "Epoch 9/100\n",
      "29/29 [==============================] - 0s 4ms/step - loss: 1.1558 - accuracy: 0.5146 - val_loss: 1.2394 - val_accuracy: 0.4756\n",
      "Epoch 10/100\n",
      "29/29 [==============================] - 0s 4ms/step - loss: 1.1423 - accuracy: 0.4951 - val_loss: 1.2466 - val_accuracy: 0.4878\n",
      "Epoch 11/100\n",
      "29/29 [==============================] - 0s 3ms/step - loss: 1.1315 - accuracy: 0.5168 - val_loss: 1.2956 - val_accuracy: 0.4634\n",
      "Epoch 12/100\n",
      "29/29 [==============================] - 0s 3ms/step - loss: 1.1248 - accuracy: 0.5330 - val_loss: 1.2143 - val_accuracy: 0.5061\n",
      "Epoch 13/100\n",
      "29/29 [==============================] - 0s 3ms/step - loss: 1.1262 - accuracy: 0.5081 - val_loss: 1.2594 - val_accuracy: 0.5061\n",
      "Epoch 14/100\n",
      "29/29 [==============================] - 0s 3ms/step - loss: 1.1158 - accuracy: 0.5352 - val_loss: 1.2195 - val_accuracy: 0.5183\n",
      "Epoch 15/100\n",
      "29/29 [==============================] - 0s 4ms/step - loss: 1.1030 - accuracy: 0.5287 - val_loss: 1.2178 - val_accuracy: 0.5183\n",
      "Epoch 16/100\n",
      "29/29 [==============================] - 0s 3ms/step - loss: 1.0964 - accuracy: 0.5363 - val_loss: 1.2352 - val_accuracy: 0.4817\n",
      "Epoch 17/100\n",
      "29/29 [==============================] - 0s 3ms/step - loss: 1.1017 - accuracy: 0.5406 - val_loss: 1.2010 - val_accuracy: 0.5183\n",
      "Epoch 18/100\n",
      "29/29 [==============================] - 0s 3ms/step - loss: 1.0947 - accuracy: 0.5374 - val_loss: 1.2255 - val_accuracy: 0.5122\n",
      "Epoch 19/100\n",
      "29/29 [==============================] - 0s 3ms/step - loss: 1.0922 - accuracy: 0.5504 - val_loss: 1.2095 - val_accuracy: 0.5427\n",
      "Epoch 20/100\n",
      "29/29 [==============================] - 0s 4ms/step - loss: 1.0747 - accuracy: 0.5645 - val_loss: 1.2263 - val_accuracy: 0.5244\n",
      "Epoch 21/100\n",
      "29/29 [==============================] - 0s 4ms/step - loss: 1.1154 - accuracy: 0.5038 - val_loss: 1.2028 - val_accuracy: 0.5305\n",
      "Epoch 22/100\n",
      "29/29 [==============================] - 0s 4ms/step - loss: 1.0835 - accuracy: 0.5590 - val_loss: 1.2257 - val_accuracy: 0.5122\n",
      "Epoch 23/100\n",
      "29/29 [==============================] - 0s 4ms/step - loss: 1.0682 - accuracy: 0.5504 - val_loss: 1.2867 - val_accuracy: 0.4451\n",
      "Epoch 24/100\n",
      "29/29 [==============================] - 0s 4ms/step - loss: 1.0907 - accuracy: 0.5385 - val_loss: 1.1951 - val_accuracy: 0.5610\n",
      "Epoch 25/100\n",
      "29/29 [==============================] - 0s 3ms/step - loss: 1.0719 - accuracy: 0.5493 - val_loss: 1.1895 - val_accuracy: 0.5305\n",
      "Epoch 26/100\n",
      "29/29 [==============================] - 0s 3ms/step - loss: 1.0496 - accuracy: 0.5623 - val_loss: 1.1955 - val_accuracy: 0.5366\n",
      "Epoch 27/100\n",
      "29/29 [==============================] - 0s 4ms/step - loss: 1.0557 - accuracy: 0.5525 - val_loss: 1.2680 - val_accuracy: 0.4512\n",
      "Epoch 28/100\n",
      "29/29 [==============================] - 0s 3ms/step - loss: 1.0476 - accuracy: 0.5655 - val_loss: 1.1766 - val_accuracy: 0.5549\n",
      "Epoch 29/100\n",
      "29/29 [==============================] - 0s 4ms/step - loss: 1.0412 - accuracy: 0.5688 - val_loss: 1.2328 - val_accuracy: 0.4939\n",
      "Epoch 30/100\n",
      "29/29 [==============================] - 0s 4ms/step - loss: 1.0381 - accuracy: 0.5580 - val_loss: 1.2641 - val_accuracy: 0.4573\n",
      "Epoch 31/100\n",
      "29/29 [==============================] - 0s 4ms/step - loss: 1.0567 - accuracy: 0.5482 - val_loss: 1.1741 - val_accuracy: 0.5427\n",
      "Epoch 32/100\n",
      "29/29 [==============================] - 0s 3ms/step - loss: 1.0315 - accuracy: 0.5601 - val_loss: 1.2311 - val_accuracy: 0.5183\n",
      "Epoch 33/100\n",
      "29/29 [==============================] - 0s 4ms/step - loss: 1.0389 - accuracy: 0.5645 - val_loss: 1.2128 - val_accuracy: 0.5366\n",
      "Epoch 34/100\n",
      "29/29 [==============================] - 0s 4ms/step - loss: 1.0418 - accuracy: 0.5634 - val_loss: 1.1937 - val_accuracy: 0.5183\n",
      "Epoch 35/100\n",
      "29/29 [==============================] - 0s 3ms/step - loss: 1.0417 - accuracy: 0.5655 - val_loss: 1.1693 - val_accuracy: 0.5549\n",
      "Epoch 36/100\n",
      "29/29 [==============================] - 0s 3ms/step - loss: 1.0383 - accuracy: 0.5764 - val_loss: 1.2283 - val_accuracy: 0.4695\n",
      "Epoch 37/100\n",
      "29/29 [==============================] - 0s 3ms/step - loss: 1.0300 - accuracy: 0.5731 - val_loss: 1.1822 - val_accuracy: 0.5610\n",
      "Epoch 38/100\n",
      "29/29 [==============================] - 0s 3ms/step - loss: 1.0207 - accuracy: 0.5699 - val_loss: 1.1800 - val_accuracy: 0.5366\n",
      "Epoch 39/100\n",
      "29/29 [==============================] - 0s 4ms/step - loss: 1.0290 - accuracy: 0.5764 - val_loss: 1.1536 - val_accuracy: 0.5732\n",
      "Epoch 40/100\n",
      "29/29 [==============================] - 0s 3ms/step - loss: 1.0181 - accuracy: 0.5525 - val_loss: 1.1817 - val_accuracy: 0.5366\n",
      "Epoch 41/100\n",
      "29/29 [==============================] - 0s 3ms/step - loss: 1.0076 - accuracy: 0.5764 - val_loss: 1.1653 - val_accuracy: 0.5549\n",
      "Epoch 42/100\n",
      "29/29 [==============================] - 0s 4ms/step - loss: 1.0118 - accuracy: 0.5710 - val_loss: 1.1607 - val_accuracy: 0.5854\n",
      "Epoch 43/100\n",
      "29/29 [==============================] - 0s 3ms/step - loss: 1.0011 - accuracy: 0.5796 - val_loss: 1.1708 - val_accuracy: 0.5610\n",
      "Epoch 44/100\n",
      "29/29 [==============================] - 0s 4ms/step - loss: 0.9965 - accuracy: 0.5807 - val_loss: 1.1770 - val_accuracy: 0.4878\n",
      "Epoch 45/100\n",
      "29/29 [==============================] - 0s 3ms/step - loss: 1.0034 - accuracy: 0.5590 - val_loss: 1.1884 - val_accuracy: 0.5427\n",
      "Epoch 46/100\n",
      "29/29 [==============================] - 0s 3ms/step - loss: 0.9931 - accuracy: 0.5796 - val_loss: 1.1743 - val_accuracy: 0.4939\n",
      "Epoch 47/100\n",
      "29/29 [==============================] - 0s 3ms/step - loss: 1.0053 - accuracy: 0.5688 - val_loss: 1.1853 - val_accuracy: 0.5366\n",
      "Epoch 48/100\n",
      "29/29 [==============================] - 0s 3ms/step - loss: 0.9984 - accuracy: 0.5688 - val_loss: 1.1652 - val_accuracy: 0.5244\n",
      "Epoch 49/100\n",
      "29/29 [==============================] - 0s 3ms/step - loss: 0.9829 - accuracy: 0.5688 - val_loss: 1.1695 - val_accuracy: 0.5244\n",
      "Epoch 50/100\n",
      "29/29 [==============================] - 0s 4ms/step - loss: 0.9799 - accuracy: 0.5710 - val_loss: 1.1396 - val_accuracy: 0.5793\n",
      "Epoch 51/100\n",
      "29/29 [==============================] - 0s 4ms/step - loss: 0.9999 - accuracy: 0.5796 - val_loss: 1.1449 - val_accuracy: 0.5549\n",
      "Epoch 52/100\n",
      "29/29 [==============================] - 0s 3ms/step - loss: 0.9936 - accuracy: 0.5753 - val_loss: 1.1463 - val_accuracy: 0.5732\n",
      "Epoch 53/100\n",
      "29/29 [==============================] - 0s 3ms/step - loss: 0.9916 - accuracy: 0.5764 - val_loss: 1.1588 - val_accuracy: 0.5305\n",
      "Epoch 54/100\n",
      "29/29 [==============================] - 0s 3ms/step - loss: 1.0096 - accuracy: 0.5731 - val_loss: 1.1626 - val_accuracy: 0.5427\n",
      "Epoch 55/100\n",
      "29/29 [==============================] - 0s 3ms/step - loss: 1.0180 - accuracy: 0.5612 - val_loss: 1.1500 - val_accuracy: 0.5854\n",
      "Epoch 56/100\n",
      "29/29 [==============================] - 0s 4ms/step - loss: 0.9833 - accuracy: 0.5796 - val_loss: 1.1618 - val_accuracy: 0.5366\n",
      "Epoch 57/100\n",
      "29/29 [==============================] - 0s 3ms/step - loss: 0.9847 - accuracy: 0.5764 - val_loss: 1.1347 - val_accuracy: 0.5671\n",
      "Epoch 58/100\n",
      "29/29 [==============================] - 0s 4ms/step - loss: 0.9816 - accuracy: 0.5807 - val_loss: 1.1452 - val_accuracy: 0.5793\n",
      "Epoch 59/100\n",
      "29/29 [==============================] - 0s 4ms/step - loss: 1.0107 - accuracy: 0.5666 - val_loss: 1.2086 - val_accuracy: 0.5549\n",
      "Epoch 60/100\n",
      "29/29 [==============================] - 0s 4ms/step - loss: 0.9789 - accuracy: 0.5796 - val_loss: 1.1474 - val_accuracy: 0.5427\n",
      "Epoch 61/100\n",
      "29/29 [==============================] - 0s 4ms/step - loss: 0.9654 - accuracy: 0.6002 - val_loss: 1.1477 - val_accuracy: 0.5610\n",
      "Epoch 62/100\n",
      "29/29 [==============================] - 0s 3ms/step - loss: 1.0130 - accuracy: 0.5536 - val_loss: 1.2438 - val_accuracy: 0.5427\n",
      "Epoch 63/100\n",
      "29/29 [==============================] - 0s 4ms/step - loss: 0.9817 - accuracy: 0.5720 - val_loss: 1.1541 - val_accuracy: 0.5488\n",
      "Epoch 64/100\n",
      "29/29 [==============================] - 0s 4ms/step - loss: 0.9751 - accuracy: 0.5775 - val_loss: 1.1868 - val_accuracy: 0.4817\n",
      "Epoch 65/100\n",
      "29/29 [==============================] - 0s 3ms/step - loss: 0.9767 - accuracy: 0.5829 - val_loss: 1.1566 - val_accuracy: 0.5549\n",
      "Epoch 66/100\n",
      "29/29 [==============================] - 0s 3ms/step - loss: 0.9701 - accuracy: 0.5829 - val_loss: 1.1486 - val_accuracy: 0.5488\n",
      "Epoch 67/100\n",
      "29/29 [==============================] - 0s 3ms/step - loss: 0.9733 - accuracy: 0.5785 - val_loss: 1.1590 - val_accuracy: 0.5427\n",
      "Epoch 68/100\n",
      "29/29 [==============================] - 0s 4ms/step - loss: 0.9568 - accuracy: 0.5720 - val_loss: 1.1400 - val_accuracy: 0.5671\n",
      "Epoch 69/100\n",
      "29/29 [==============================] - 0s 4ms/step - loss: 0.9940 - accuracy: 0.5677 - val_loss: 1.1492 - val_accuracy: 0.5549\n",
      "Epoch 70/100\n",
      "29/29 [==============================] - 0s 3ms/step - loss: 0.9729 - accuracy: 0.5850 - val_loss: 1.1472 - val_accuracy: 0.5793\n",
      "Epoch 71/100\n",
      "29/29 [==============================] - 0s 4ms/step - loss: 0.9754 - accuracy: 0.5818 - val_loss: 1.1442 - val_accuracy: 0.5671\n",
      "Epoch 72/100\n",
      "29/29 [==============================] - 0s 3ms/step - loss: 0.9689 - accuracy: 0.5872 - val_loss: 1.1562 - val_accuracy: 0.5427\n",
      "Epoch 73/100\n",
      "29/29 [==============================] - 0s 3ms/step - loss: 0.9596 - accuracy: 0.5905 - val_loss: 1.1597 - val_accuracy: 0.5122\n",
      "Epoch 74/100\n",
      "29/29 [==============================] - 0s 3ms/step - loss: 0.9592 - accuracy: 0.5829 - val_loss: 1.1486 - val_accuracy: 0.5488\n",
      "Epoch 75/100\n",
      "29/29 [==============================] - 0s 3ms/step - loss: 0.9517 - accuracy: 0.5818 - val_loss: 1.1381 - val_accuracy: 0.5427\n",
      "Epoch 76/100\n",
      "29/29 [==============================] - 0s 3ms/step - loss: 0.9644 - accuracy: 0.5720 - val_loss: 1.1850 - val_accuracy: 0.5366\n",
      "Epoch 77/100\n",
      "29/29 [==============================] - 0s 3ms/step - loss: 0.9794 - accuracy: 0.5720 - val_loss: 1.2741 - val_accuracy: 0.4756\n",
      "Epoch 78/100\n",
      "29/29 [==============================] - 0s 3ms/step - loss: 0.9947 - accuracy: 0.5710 - val_loss: 1.1730 - val_accuracy: 0.5244\n",
      "Epoch 79/100\n",
      "29/29 [==============================] - 0s 3ms/step - loss: 0.9893 - accuracy: 0.5850 - val_loss: 1.1392 - val_accuracy: 0.5732\n",
      "Epoch 80/100\n",
      "29/29 [==============================] - 0s 3ms/step - loss: 0.9554 - accuracy: 0.5742 - val_loss: 1.1550 - val_accuracy: 0.5610\n",
      "Epoch 81/100\n",
      "29/29 [==============================] - 0s 3ms/step - loss: 0.9448 - accuracy: 0.5872 - val_loss: 1.1447 - val_accuracy: 0.5671\n",
      "Epoch 82/100\n",
      "29/29 [==============================] - 0s 3ms/step - loss: 0.9354 - accuracy: 0.5991 - val_loss: 1.1708 - val_accuracy: 0.5244\n",
      "Epoch 83/100\n",
      "29/29 [==============================] - 0s 3ms/step - loss: 0.9379 - accuracy: 0.5991 - val_loss: 1.1973 - val_accuracy: 0.5549\n",
      "Epoch 84/100\n",
      "29/29 [==============================] - 0s 3ms/step - loss: 0.9638 - accuracy: 0.5948 - val_loss: 1.1629 - val_accuracy: 0.5671\n",
      "Epoch 85/100\n",
      "29/29 [==============================] - 0s 4ms/step - loss: 0.9368 - accuracy: 0.5840 - val_loss: 1.1895 - val_accuracy: 0.5183\n",
      "Epoch 86/100\n",
      "29/29 [==============================] - 0s 3ms/step - loss: 0.9599 - accuracy: 0.5894 - val_loss: 1.1714 - val_accuracy: 0.5549\n",
      "Epoch 87/100\n",
      "29/29 [==============================] - 0s 3ms/step - loss: 0.9563 - accuracy: 0.5980 - val_loss: 1.1607 - val_accuracy: 0.5549\n",
      "Epoch 88/100\n",
      "29/29 [==============================] - 0s 4ms/step - loss: 0.9380 - accuracy: 0.5807 - val_loss: 1.1654 - val_accuracy: 0.5427\n",
      "Epoch 89/100\n",
      "29/29 [==============================] - 0s 4ms/step - loss: 0.9312 - accuracy: 0.5883 - val_loss: 1.1518 - val_accuracy: 0.5549\n",
      "Epoch 90/100\n",
      "29/29 [==============================] - 0s 3ms/step - loss: 0.9421 - accuracy: 0.5753 - val_loss: 1.1992 - val_accuracy: 0.5427\n",
      "Epoch 91/100\n",
      "29/29 [==============================] - 0s 4ms/step - loss: 0.9580 - accuracy: 0.5623 - val_loss: 1.1735 - val_accuracy: 0.5427\n",
      "Epoch 92/100\n",
      "29/29 [==============================] - 0s 4ms/step - loss: 0.9550 - accuracy: 0.5796 - val_loss: 1.1495 - val_accuracy: 0.5488\n",
      "Epoch 93/100\n",
      "29/29 [==============================] - 0s 3ms/step - loss: 0.9423 - accuracy: 0.6024 - val_loss: 1.2242 - val_accuracy: 0.4878\n",
      "Epoch 94/100\n",
      "29/29 [==============================] - 0s 4ms/step - loss: 0.9583 - accuracy: 0.5796 - val_loss: 1.2323 - val_accuracy: 0.5366\n",
      "Epoch 95/100\n",
      "29/29 [==============================] - 0s 3ms/step - loss: 0.9640 - accuracy: 0.5796 - val_loss: 1.1676 - val_accuracy: 0.5183\n",
      "Epoch 96/100\n",
      "29/29 [==============================] - 0s 3ms/step - loss: 0.9243 - accuracy: 0.6013 - val_loss: 1.1835 - val_accuracy: 0.5366\n",
      "Epoch 97/100\n",
      "29/29 [==============================] - 0s 4ms/step - loss: 0.9426 - accuracy: 0.6046 - val_loss: 1.1696 - val_accuracy: 0.5366\n",
      "Epoch 98/100\n",
      "29/29 [==============================] - 0s 4ms/step - loss: 0.9581 - accuracy: 0.5840 - val_loss: 1.2042 - val_accuracy: 0.5305\n",
      "Epoch 99/100\n",
      "29/29 [==============================] - 0s 3ms/step - loss: 0.9666 - accuracy: 0.5710 - val_loss: 1.1859 - val_accuracy: 0.5427\n",
      "Epoch 100/100\n",
      "29/29 [==============================] - 0s 3ms/step - loss: 0.9656 - accuracy: 0.5840 - val_loss: 1.2456 - val_accuracy: 0.5488\n"
     ]
    },
    {
     "data": {
      "text/plain": [
       "<keras.src.callbacks.History at 0x25b906af2d0>"
      ]
     },
     "execution_count": 51,
     "metadata": {},
     "output_type": "execute_result"
    }
   ],
   "source": [
    "model.fit(X_train, Y_train_cat, epochs = 100, validation_split = 0.15)"
   ]
  },
  {
   "cell_type": "code",
   "execution_count": 52,
   "id": "87d27788",
   "metadata": {},
   "outputs": [
    {
     "name": "stdout",
     "output_type": "stream",
     "text": [
      "9/9 [==============================] - 0s 2ms/step - loss: 1.0597 - accuracy: 0.5735\n"
     ]
    },
    {
     "data": {
      "text/plain": [
       "[1.059660792350769, 0.5735294222831726]"
      ]
     },
     "execution_count": 52,
     "metadata": {},
     "output_type": "execute_result"
    }
   ],
   "source": [
    "model.evaluate(X_test, Y_test_cat)"
   ]
  },
  {
   "cell_type": "markdown",
   "id": "f2799a93",
   "metadata": {},
   "source": [
    "Нейронка с удаленными выбросами"
   ]
  },
  {
   "cell_type": "code",
   "execution_count": null,
   "id": "bff56a69",
   "metadata": {},
   "outputs": [],
   "source": [
    "from sklearn.model_selection import train_test_split"
   ]
  },
  {
   "cell_type": "code",
   "execution_count": null,
   "id": "f7c2613e",
   "metadata": {},
   "outputs": [],
   "source": [
    "model1 = keras.Sequential([\n",
    "    Flatten(input_shape = (11, 1)),\n",
    "    Dense(100, activation = 'relu'),\n",
    "    Dense(4, activation = 'softmax')\n",
    "])\n",
    "\n",
    "print(model1.summary())"
   ]
  },
  {
   "cell_type": "code",
   "execution_count": null,
   "id": "c70ff698",
   "metadata": {},
   "outputs": [],
   "source": [
    "df_without['quality'] = df_without['quality'].apply(lambda x: x-2)"
   ]
  },
  {
   "cell_type": "code",
   "execution_count": null,
   "id": "32f19dda",
   "metadata": {},
   "outputs": [],
   "source": [
    "X_train, X_test, Y_train, Y_test = train_test_split(df_without.drop('quality', axis = 1), df_without['quality'], test_size = 0.2)"
   ]
  },
  {
   "cell_type": "code",
   "execution_count": null,
   "id": "c42d3bee",
   "metadata": {},
   "outputs": [],
   "source": [
    "X_train = np.array([list(X_train.loc[index]) for index, row in X_train.iterrows()])\n",
    "Y_train = np.array([[i] for i in Y_train])\n",
    "X_test = np.array([list(X_test.loc[index]) for index, row in X_test.iterrows()])\n",
    "Y_test = np.array([[i] for i in Y_test])"
   ]
  },
  {
   "cell_type": "code",
   "execution_count": null,
   "id": "8535f50b",
   "metadata": {},
   "outputs": [],
   "source": [
    "X_train = np.array([i.reshape(11, 1) for i in X_train])\n",
    "X_test = np.array([i.reshape(11, 1) for i in X_test])"
   ]
  },
  {
   "cell_type": "code",
   "execution_count": null,
   "id": "1d42c4c3",
   "metadata": {},
   "outputs": [],
   "source": [
    "Y_train_cat = keras.utils.to_categorical(Y_train)\n",
    "Y_test_cat = keras.utils.to_categorical(Y_test)"
   ]
  },
  {
   "cell_type": "code",
   "execution_count": null,
   "id": "e7f8abd0",
   "metadata": {},
   "outputs": [],
   "source": [
    "Y_train_cat = np.array([i.reshape(4, 1) for i in Y_train_cat])\n",
    "Y_test_cat = np.array([i.reshape(4, 1) for i in Y_test_cat])"
   ]
  },
  {
   "cell_type": "code",
   "execution_count": null,
   "id": "1b1b4b86",
   "metadata": {},
   "outputs": [],
   "source": [
    "model1.compile(optimizer = 'adam', \n",
    "              loss = 'categorical_crossentropy',\n",
    "              metrics = ['accuracy'])"
   ]
  },
  {
   "cell_type": "code",
   "execution_count": null,
   "id": "b68c6dad",
   "metadata": {},
   "outputs": [],
   "source": [
    "model1.fit(X_train, Y_train_cat, epochs = 60, validation_split = 0.15)"
   ]
  },
  {
   "cell_type": "code",
   "execution_count": null,
   "id": "b0d8e68f",
   "metadata": {},
   "outputs": [],
   "source": [
    "model1.evaluate(X_test, Y_test_cat)"
   ]
  },
  {
   "cell_type": "code",
   "execution_count": null,
   "id": "1f26d069",
   "metadata": {},
   "outputs": [],
   "source": []
  },
  {
   "cell_type": "code",
   "execution_count": null,
   "id": "c4a1b4f2",
   "metadata": {},
   "outputs": [],
   "source": []
  },
  {
   "cell_type": "code",
   "execution_count": null,
   "id": "fe5bf89a",
   "metadata": {},
   "outputs": [],
   "source": []
  },
  {
   "cell_type": "code",
   "execution_count": null,
   "id": "56e4674d",
   "metadata": {},
   "outputs": [],
   "source": []
  }
 ],
 "metadata": {
  "kernelspec": {
   "display_name": "Python 3 (ipykernel)",
   "language": "python",
   "name": "python3"
  },
  "language_info": {
   "codemirror_mode": {
    "name": "ipython",
    "version": 3
   },
   "file_extension": ".py",
   "mimetype": "text/x-python",
   "name": "python",
   "nbconvert_exporter": "python",
   "pygments_lexer": "ipython3",
   "version": "3.11.4"
  }
 },
 "nbformat": 4,
 "nbformat_minor": 5
}
