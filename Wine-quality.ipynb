{
 "cells": [
  {
   "cell_type": "code",
   "execution_count": 1,
   "id": "438ddd13",
   "metadata": {},
   "outputs": [],
   "source": [
    "import pandas as pd\n",
    "import numpy as np\n",
    "import seaborn as sns\n",
    "import matplotlib.pyplot as plt"
   ]
  },
  {
   "cell_type": "code",
   "execution_count": 2,
   "id": "12a88615",
   "metadata": {},
   "outputs": [
    {
     "data": {
      "text/html": [
       "<div>\n",
       "<style scoped>\n",
       "    .dataframe tbody tr th:only-of-type {\n",
       "        vertical-align: middle;\n",
       "    }\n",
       "\n",
       "    .dataframe tbody tr th {\n",
       "        vertical-align: top;\n",
       "    }\n",
       "\n",
       "    .dataframe thead th {\n",
       "        text-align: right;\n",
       "    }\n",
       "</style>\n",
       "<table border=\"1\" class=\"dataframe\">\n",
       "  <thead>\n",
       "    <tr style=\"text-align: right;\">\n",
       "      <th></th>\n",
       "      <th>fixed acidity</th>\n",
       "      <th>volatile acidity</th>\n",
       "      <th>citric acid</th>\n",
       "      <th>residual sugar</th>\n",
       "      <th>chlorides</th>\n",
       "      <th>free sulfur dioxide</th>\n",
       "      <th>total sulfur dioxide</th>\n",
       "      <th>density</th>\n",
       "      <th>pH</th>\n",
       "      <th>sulphates</th>\n",
       "      <th>alcohol</th>\n",
       "      <th>quality</th>\n",
       "    </tr>\n",
       "  </thead>\n",
       "  <tbody>\n",
       "    <tr>\n",
       "      <th>1594</th>\n",
       "      <td>6.2</td>\n",
       "      <td>0.600</td>\n",
       "      <td>0.08</td>\n",
       "      <td>2.0</td>\n",
       "      <td>0.090</td>\n",
       "      <td>32.0</td>\n",
       "      <td>44.0</td>\n",
       "      <td>0.99490</td>\n",
       "      <td>3.45</td>\n",
       "      <td>0.58</td>\n",
       "      <td>10.5</td>\n",
       "      <td>5</td>\n",
       "    </tr>\n",
       "    <tr>\n",
       "      <th>1595</th>\n",
       "      <td>5.9</td>\n",
       "      <td>0.550</td>\n",
       "      <td>0.10</td>\n",
       "      <td>2.2</td>\n",
       "      <td>0.062</td>\n",
       "      <td>39.0</td>\n",
       "      <td>51.0</td>\n",
       "      <td>0.99512</td>\n",
       "      <td>3.52</td>\n",
       "      <td>0.76</td>\n",
       "      <td>11.2</td>\n",
       "      <td>6</td>\n",
       "    </tr>\n",
       "    <tr>\n",
       "      <th>1596</th>\n",
       "      <td>6.3</td>\n",
       "      <td>0.510</td>\n",
       "      <td>0.13</td>\n",
       "      <td>2.3</td>\n",
       "      <td>0.076</td>\n",
       "      <td>29.0</td>\n",
       "      <td>40.0</td>\n",
       "      <td>0.99574</td>\n",
       "      <td>3.42</td>\n",
       "      <td>0.75</td>\n",
       "      <td>11.0</td>\n",
       "      <td>6</td>\n",
       "    </tr>\n",
       "    <tr>\n",
       "      <th>1597</th>\n",
       "      <td>5.9</td>\n",
       "      <td>0.645</td>\n",
       "      <td>0.12</td>\n",
       "      <td>2.0</td>\n",
       "      <td>0.075</td>\n",
       "      <td>32.0</td>\n",
       "      <td>44.0</td>\n",
       "      <td>0.99547</td>\n",
       "      <td>3.57</td>\n",
       "      <td>0.71</td>\n",
       "      <td>10.2</td>\n",
       "      <td>5</td>\n",
       "    </tr>\n",
       "    <tr>\n",
       "      <th>1598</th>\n",
       "      <td>6.0</td>\n",
       "      <td>0.310</td>\n",
       "      <td>0.47</td>\n",
       "      <td>3.6</td>\n",
       "      <td>0.067</td>\n",
       "      <td>18.0</td>\n",
       "      <td>42.0</td>\n",
       "      <td>0.99549</td>\n",
       "      <td>3.39</td>\n",
       "      <td>0.66</td>\n",
       "      <td>11.0</td>\n",
       "      <td>6</td>\n",
       "    </tr>\n",
       "  </tbody>\n",
       "</table>\n",
       "</div>"
      ],
      "text/plain": [
       "      fixed acidity  volatile acidity  citric acid  residual sugar  chlorides  \\\n",
       "1594            6.2             0.600         0.08             2.0      0.090   \n",
       "1595            5.9             0.550         0.10             2.2      0.062   \n",
       "1596            6.3             0.510         0.13             2.3      0.076   \n",
       "1597            5.9             0.645         0.12             2.0      0.075   \n",
       "1598            6.0             0.310         0.47             3.6      0.067   \n",
       "\n",
       "      free sulfur dioxide  total sulfur dioxide  density    pH  sulphates  \\\n",
       "1594                 32.0                  44.0  0.99490  3.45       0.58   \n",
       "1595                 39.0                  51.0  0.99512  3.52       0.76   \n",
       "1596                 29.0                  40.0  0.99574  3.42       0.75   \n",
       "1597                 32.0                  44.0  0.99547  3.57       0.71   \n",
       "1598                 18.0                  42.0  0.99549  3.39       0.66   \n",
       "\n",
       "      alcohol  quality  \n",
       "1594     10.5        5  \n",
       "1595     11.2        6  \n",
       "1596     11.0        6  \n",
       "1597     10.2        5  \n",
       "1598     11.0        6  "
      ]
     },
     "execution_count": 2,
     "metadata": {},
     "output_type": "execute_result"
    }
   ],
   "source": [
    "df = pd.read_csv('C:\\\\Users\\\\Оксана\\\\Desktop\\\\CSV\\\\winequality-red.csv')\n",
    "df.tail()"
   ]
  },
  {
   "cell_type": "code",
   "execution_count": 3,
   "id": "3f8767ec",
   "metadata": {},
   "outputs": [
    {
     "data": {
      "text/plain": [
       "Index(['fixed acidity', 'volatile acidity', 'citric acid', 'residual sugar',\n",
       "       'chlorides', 'free sulfur dioxide', 'total sulfur dioxide', 'density',\n",
       "       'pH', 'sulphates', 'alcohol', 'quality'],\n",
       "      dtype='object')"
      ]
     },
     "execution_count": 3,
     "metadata": {},
     "output_type": "execute_result"
    }
   ],
   "source": [
    "df.columns"
   ]
  },
  {
   "cell_type": "code",
   "execution_count": 4,
   "id": "6adb74ff",
   "metadata": {},
   "outputs": [
    {
     "data": {
      "text/plain": [
       "19188"
      ]
     },
     "execution_count": 4,
     "metadata": {},
     "output_type": "execute_result"
    }
   ],
   "source": [
    "df.size"
   ]
  },
  {
   "cell_type": "code",
   "execution_count": 5,
   "id": "6c47051a",
   "metadata": {},
   "outputs": [
    {
     "data": {
      "text/plain": [
       "16308"
      ]
     },
     "execution_count": 5,
     "metadata": {},
     "output_type": "execute_result"
    }
   ],
   "source": [
    "df = df.drop_duplicates()\n",
    "df.size"
   ]
  },
  {
   "cell_type": "code",
   "execution_count": 6,
   "id": "5ab0f690",
   "metadata": {},
   "outputs": [
    {
     "data": {
      "text/plain": [
       "<AxesSubplot:xlabel='quality'>"
      ]
     },
     "execution_count": 6,
     "metadata": {},
     "output_type": "execute_result"
    },
    {
     "data": {
      "image/png": "[encoded data removed]",
      "text/plain": [
       "<Figure size 432x288 with 1 Axes>"
      ]
     },
     "metadata": {
      "needs_background": "light"
     },
     "output_type": "display_data"
    }
   ],
   "source": [
    "sns.boxplot(data = df, x = df['quality'])"
   ]
  },
  {
   "cell_type": "code",
   "execution_count": 7,
   "id": "eded8697",
   "metadata": {},
   "outputs": [
    {
     "data": {
      "text/plain": [
       "5    577\n",
       "6    535\n",
       "7    167\n",
       "4     53\n",
       "8     17\n",
       "3     10\n",
       "Name: quality, dtype: int64"
      ]
     },
     "execution_count": 7,
     "metadata": {},
     "output_type": "execute_result"
    }
   ],
   "source": [
    "df['quality'].value_counts()"
   ]
  },
  {
   "cell_type": "code",
   "execution_count": 8,
   "id": "4811f330",
   "metadata": {},
   "outputs": [
    {
     "name": "stdout",
     "output_type": "stream",
     "text": [
      "<class 'pandas.core.frame.DataFrame'>\n",
      "Int64Index: 1359 entries, 0 to 1598\n",
      "Data columns (total 12 columns):\n",
      " #   Column                Non-Null Count  Dtype  \n",
      "---  ------                --------------  -----  \n",
      " 0   fixed acidity         1359 non-null   float64\n",
      " 1   volatile acidity      1359 non-null   float64\n",
      " 2   citric acid           1359 non-null   float64\n",
      " 3   residual sugar        1359 non-null   float64\n",
      " 4   chlorides             1359 non-null   float64\n",
      " 5   free sulfur dioxide   1359 non-null   float64\n",
      " 6   total sulfur dioxide  1359 non-null   float64\n",
      " 7   density               1359 non-null   float64\n",
      " 8   pH                    1359 non-null   float64\n",
      " 9   sulphates             1359 non-null   float64\n",
      " 10  alcohol               1359 non-null   float64\n",
      " 11  quality               1359 non-null   int64  \n",
      "dtypes: float64(11), int64(1)\n",
      "memory usage: 138.0 KB\n"
     ]
    }
   ],
   "source": [
    "df.info()"
   ]
  },
  {
   "cell_type": "code",
   "execution_count": 9,
   "id": "6d2a6208",
   "metadata": {},
   "outputs": [],
   "source": [
    "df_with_3_and_8 = df.copy()\n",
    "df_without = df.copy()"
   ]
  },
  {
   "cell_type": "code",
   "execution_count": 10,
   "id": "64fb9f14",
   "metadata": {},
   "outputs": [],
   "source": [
    "df_without['quality'] = df['quality'].replace(3, 4)\n",
    "df_without['quality'] = df['quality'].replace(8, 7)"
   ]
  },
  {
   "cell_type": "code",
   "execution_count": 11,
   "id": "021ff7d8",
   "metadata": {},
   "outputs": [
    {
     "name": "stdout",
     "output_type": "stream",
     "text": [
      "<class 'pandas.core.frame.DataFrame'>\n",
      "Int64Index: 1359 entries, 0 to 1598\n",
      "Data columns (total 12 columns):\n",
      " #   Column                Non-Null Count  Dtype  \n",
      "---  ------                --------------  -----  \n",
      " 0   fixed acidity         1359 non-null   float64\n",
      " 1   volatile acidity      1359 non-null   float64\n",
      " 2   citric acid           1359 non-null   float64\n",
      " 3   residual sugar        1359 non-null   float64\n",
      " 4   chlorides             1359 non-null   float64\n",
      " 5   free sulfur dioxide   1359 non-null   float64\n",
      " 6   total sulfur dioxide  1359 non-null   float64\n",
      " 7   density               1359 non-null   float64\n",
      " 8   pH                    1359 non-null   float64\n",
      " 9   sulphates             1359 non-null   float64\n",
      " 10  alcohol               1359 non-null   float64\n",
      " 11  quality               1359 non-null   int64  \n",
      "dtypes: float64(11), int64(1)\n",
      "memory usage: 138.0 KB\n"
     ]
    }
   ],
   "source": [
    "df_without.info()"
   ]
  },
  {
   "cell_type": "code",
   "execution_count": 12,
   "id": "6cc5cecd",
   "metadata": {},
   "outputs": [
    {
     "ename": "KeyboardInterrupt",
     "evalue": "",
     "output_type": "error",
     "traceback": [
      "\u001b[1;31m---------------------------------------------------------------------------\u001b[0m",
      "\u001b[1;31mKeyboardInterrupt\u001b[0m                         Traceback (most recent call last)",
      "\u001b[1;32mC:\\Users\\3671~1\\AppData\\Local\\Temp/ipykernel_10088/20763641.py\u001b[0m in \u001b[0;36m<module>\u001b[1;34m\u001b[0m\n\u001b[0;32m      7\u001b[0m \u001b[0mparameters\u001b[0m \u001b[1;33m=\u001b[0m \u001b[1;33m{\u001b[0m\u001b[1;34m'max_depth'\u001b[0m\u001b[1;33m:\u001b[0m \u001b[0mrange\u001b[0m\u001b[1;33m(\u001b[0m\u001b[1;36m2\u001b[0m\u001b[1;33m,\u001b[0m \u001b[1;36m10\u001b[0m\u001b[1;33m)\u001b[0m\u001b[1;33m,\u001b[0m \u001b[1;34m'min_samples_split'\u001b[0m\u001b[1;33m:\u001b[0m \u001b[0mrange\u001b[0m\u001b[1;33m(\u001b[0m\u001b[1;36m2\u001b[0m\u001b[1;33m,\u001b[0m \u001b[1;36m10\u001b[0m\u001b[1;33m)\u001b[0m\u001b[1;33m}\u001b[0m\u001b[1;33m\u001b[0m\u001b[1;33m\u001b[0m\u001b[0m\n\u001b[0;32m      8\u001b[0m \u001b[0mgsv\u001b[0m \u001b[1;33m=\u001b[0m \u001b[0mGridSearchCV\u001b[0m\u001b[1;33m(\u001b[0m\u001b[0mclf\u001b[0m\u001b[1;33m,\u001b[0m \u001b[0mparameters\u001b[0m\u001b[1;33m)\u001b[0m\u001b[1;33m\u001b[0m\u001b[1;33m\u001b[0m\u001b[0m\n\u001b[1;32m----> 9\u001b[1;33m \u001b[0mgsv\u001b[0m\u001b[1;33m.\u001b[0m\u001b[0mfit\u001b[0m\u001b[1;33m(\u001b[0m\u001b[0mx_train\u001b[0m\u001b[1;33m,\u001b[0m \u001b[0my_train\u001b[0m\u001b[1;33m)\u001b[0m\u001b[1;33m\u001b[0m\u001b[1;33m\u001b[0m\u001b[0m\n\u001b[0m\u001b[0;32m     10\u001b[0m \u001b[0mgsv\u001b[0m\u001b[1;33m.\u001b[0m\u001b[0mscore\u001b[0m\u001b[1;33m(\u001b[0m\u001b[0mx_test\u001b[0m\u001b[1;33m,\u001b[0m \u001b[0my_test\u001b[0m\u001b[1;33m)\u001b[0m\u001b[1;33m\u001b[0m\u001b[1;33m\u001b[0m\u001b[0m\n",
      "\u001b[1;32mC:\\anacond\\lib\\site-packages\\sklearn\\utils\\validation.py\u001b[0m in \u001b[0;36minner_f\u001b[1;34m(*args, **kwargs)\u001b[0m\n\u001b[0;32m     61\u001b[0m             \u001b[0mextra_args\u001b[0m \u001b[1;33m=\u001b[0m \u001b[0mlen\u001b[0m\u001b[1;33m(\u001b[0m\u001b[0margs\u001b[0m\u001b[1;33m)\u001b[0m \u001b[1;33m-\u001b[0m \u001b[0mlen\u001b[0m\u001b[1;33m(\u001b[0m\u001b[0mall_args\u001b[0m\u001b[1;33m)\u001b[0m\u001b[1;33m\u001b[0m\u001b[1;33m\u001b[0m\u001b[0m\n\u001b[0;32m     62\u001b[0m             \u001b[1;32mif\u001b[0m \u001b[0mextra_args\u001b[0m \u001b[1;33m<=\u001b[0m \u001b[1;36m0\u001b[0m\u001b[1;33m:\u001b[0m\u001b[1;33m\u001b[0m\u001b[1;33m\u001b[0m\u001b[0m\n\u001b[1;32m---> 63\u001b[1;33m                 \u001b[1;32mreturn\u001b[0m \u001b[0mf\u001b[0m\u001b[1;33m(\u001b[0m\u001b[1;33m*\u001b[0m\u001b[0margs\u001b[0m\u001b[1;33m,\u001b[0m \u001b[1;33m**\u001b[0m\u001b[0mkwargs\u001b[0m\u001b[1;33m)\u001b[0m\u001b[1;33m\u001b[0m\u001b[1;33m\u001b[0m\u001b[0m\n\u001b[0m\u001b[0;32m     64\u001b[0m \u001b[1;33m\u001b[0m\u001b[0m\n\u001b[0;32m     65\u001b[0m             \u001b[1;31m# extra_args > 0\u001b[0m\u001b[1;33m\u001b[0m\u001b[1;33m\u001b[0m\u001b[0m\n",
      "\u001b[1;32mC:\\anacond\\lib\\site-packages\\sklearn\\model_selection\\_search.py\u001b[0m in \u001b[0;36mfit\u001b[1;34m(self, X, y, groups, **fit_params)\u001b[0m\n\u001b[0;32m    839\u001b[0m                 \u001b[1;32mreturn\u001b[0m \u001b[0mresults\u001b[0m\u001b[1;33m\u001b[0m\u001b[1;33m\u001b[0m\u001b[0m\n\u001b[0;32m    840\u001b[0m \u001b[1;33m\u001b[0m\u001b[0m\n\u001b[1;32m--> 841\u001b[1;33m             \u001b[0mself\u001b[0m\u001b[1;33m.\u001b[0m\u001b[0m_run_search\u001b[0m\u001b[1;33m(\u001b[0m\u001b[0mevaluate_candidates\u001b[0m\u001b[1;33m)\u001b[0m\u001b[1;33m\u001b[0m\u001b[1;33m\u001b[0m\u001b[0m\n\u001b[0m\u001b[0;32m    842\u001b[0m \u001b[1;33m\u001b[0m\u001b[0m\n\u001b[0;32m    843\u001b[0m             \u001b[1;31m# multimetric is determined here because in the case of a callable\u001b[0m\u001b[1;33m\u001b[0m\u001b[1;33m\u001b[0m\u001b[0m\n",
      "\u001b[1;32mC:\\anacond\\lib\\site-packages\\sklearn\\model_selection\\_search.py\u001b[0m in \u001b[0;36m_run_search\u001b[1;34m(self, evaluate_candidates)\u001b[0m\n\u001b[0;32m   1294\u001b[0m     \u001b[1;32mdef\u001b[0m \u001b[0m_run_search\u001b[0m\u001b[1;33m(\u001b[0m\u001b[0mself\u001b[0m\u001b[1;33m,\u001b[0m \u001b[0mevaluate_candidates\u001b[0m\u001b[1;33m)\u001b[0m\u001b[1;33m:\u001b[0m\u001b[1;33m\u001b[0m\u001b[1;33m\u001b[0m\u001b[0m\n\u001b[0;32m   1295\u001b[0m         \u001b[1;34m\"\"\"Search all candidates in param_grid\"\"\"\u001b[0m\u001b[1;33m\u001b[0m\u001b[1;33m\u001b[0m\u001b[0m\n\u001b[1;32m-> 1296\u001b[1;33m         \u001b[0mevaluate_candidates\u001b[0m\u001b[1;33m(\u001b[0m\u001b[0mParameterGrid\u001b[0m\u001b[1;33m(\u001b[0m\u001b[0mself\u001b[0m\u001b[1;33m.\u001b[0m\u001b[0mparam_grid\u001b[0m\u001b[1;33m)\u001b[0m\u001b[1;33m)\u001b[0m\u001b[1;33m\u001b[0m\u001b[1;33m\u001b[0m\u001b[0m\n\u001b[0m\u001b[0;32m   1297\u001b[0m \u001b[1;33m\u001b[0m\u001b[0m\n\u001b[0;32m   1298\u001b[0m \u001b[1;33m\u001b[0m\u001b[0m\n",
      "\u001b[1;32mC:\\anacond\\lib\\site-packages\\sklearn\\model_selection\\_search.py\u001b[0m in \u001b[0;36mevaluate_candidates\u001b[1;34m(candidate_params, cv, more_results)\u001b[0m\n\u001b[0;32m    793\u001b[0m                               n_splits, n_candidates, n_candidates * n_splits))\n\u001b[0;32m    794\u001b[0m \u001b[1;33m\u001b[0m\u001b[0m\n\u001b[1;32m--> 795\u001b[1;33m                 out = parallel(delayed(_fit_and_score)(clone(base_estimator),\n\u001b[0m\u001b[0;32m    796\u001b[0m                                                        \u001b[0mX\u001b[0m\u001b[1;33m,\u001b[0m \u001b[0my\u001b[0m\u001b[1;33m,\u001b[0m\u001b[1;33m\u001b[0m\u001b[1;33m\u001b[0m\u001b[0m\n\u001b[0;32m    797\u001b[0m                                                        \u001b[0mtrain\u001b[0m\u001b[1;33m=\u001b[0m\u001b[0mtrain\u001b[0m\u001b[1;33m,\u001b[0m \u001b[0mtest\u001b[0m\u001b[1;33m=\u001b[0m\u001b[0mtest\u001b[0m\u001b[1;33m,\u001b[0m\u001b[1;33m\u001b[0m\u001b[1;33m\u001b[0m\u001b[0m\n",
      "\u001b[1;32mC:\\anacond\\lib\\site-packages\\joblib\\parallel.py\u001b[0m in \u001b[0;36m__call__\u001b[1;34m(self, iterable)\u001b[0m\n\u001b[0;32m   1044\u001b[0m                 \u001b[0mself\u001b[0m\u001b[1;33m.\u001b[0m\u001b[0m_iterating\u001b[0m \u001b[1;33m=\u001b[0m \u001b[0mself\u001b[0m\u001b[1;33m.\u001b[0m\u001b[0m_original_iterator\u001b[0m \u001b[1;32mis\u001b[0m \u001b[1;32mnot\u001b[0m \u001b[1;32mNone\u001b[0m\u001b[1;33m\u001b[0m\u001b[1;33m\u001b[0m\u001b[0m\n\u001b[0;32m   1045\u001b[0m \u001b[1;33m\u001b[0m\u001b[0m\n\u001b[1;32m-> 1046\u001b[1;33m             \u001b[1;32mwhile\u001b[0m \u001b[0mself\u001b[0m\u001b[1;33m.\u001b[0m\u001b[0mdispatch_one_batch\u001b[0m\u001b[1;33m(\u001b[0m\u001b[0miterator\u001b[0m\u001b[1;33m)\u001b[0m\u001b[1;33m:\u001b[0m\u001b[1;33m\u001b[0m\u001b[1;33m\u001b[0m\u001b[0m\n\u001b[0m\u001b[0;32m   1047\u001b[0m                 \u001b[1;32mpass\u001b[0m\u001b[1;33m\u001b[0m\u001b[1;33m\u001b[0m\u001b[0m\n\u001b[0;32m   1048\u001b[0m \u001b[1;33m\u001b[0m\u001b[0m\n",
      "\u001b[1;32mC:\\anacond\\lib\\site-packages\\joblib\\parallel.py\u001b[0m in \u001b[0;36mdispatch_one_batch\u001b[1;34m(self, iterator)\u001b[0m\n\u001b[0;32m    859\u001b[0m                 \u001b[1;32mreturn\u001b[0m \u001b[1;32mFalse\u001b[0m\u001b[1;33m\u001b[0m\u001b[1;33m\u001b[0m\u001b[0m\n\u001b[0;32m    860\u001b[0m             \u001b[1;32melse\u001b[0m\u001b[1;33m:\u001b[0m\u001b[1;33m\u001b[0m\u001b[1;33m\u001b[0m\u001b[0m\n\u001b[1;32m--> 861\u001b[1;33m                 \u001b[0mself\u001b[0m\u001b[1;33m.\u001b[0m\u001b[0m_dispatch\u001b[0m\u001b[1;33m(\u001b[0m\u001b[0mtasks\u001b[0m\u001b[1;33m)\u001b[0m\u001b[1;33m\u001b[0m\u001b[1;33m\u001b[0m\u001b[0m\n\u001b[0m\u001b[0;32m    862\u001b[0m                 \u001b[1;32mreturn\u001b[0m \u001b[1;32mTrue\u001b[0m\u001b[1;33m\u001b[0m\u001b[1;33m\u001b[0m\u001b[0m\n\u001b[0;32m    863\u001b[0m \u001b[1;33m\u001b[0m\u001b[0m\n",
      "\u001b[1;32mC:\\anacond\\lib\\site-packages\\joblib\\parallel.py\u001b[0m in \u001b[0;36m_dispatch\u001b[1;34m(self, batch)\u001b[0m\n\u001b[0;32m    777\u001b[0m         \u001b[1;32mwith\u001b[0m \u001b[0mself\u001b[0m\u001b[1;33m.\u001b[0m\u001b[0m_lock\u001b[0m\u001b[1;33m:\u001b[0m\u001b[1;33m\u001b[0m\u001b[1;33m\u001b[0m\u001b[0m\n\u001b[0;32m    778\u001b[0m             \u001b[0mjob_idx\u001b[0m \u001b[1;33m=\u001b[0m \u001b[0mlen\u001b[0m\u001b[1;33m(\u001b[0m\u001b[0mself\u001b[0m\u001b[1;33m.\u001b[0m\u001b[0m_jobs\u001b[0m\u001b[1;33m)\u001b[0m\u001b[1;33m\u001b[0m\u001b[1;33m\u001b[0m\u001b[0m\n\u001b[1;32m--> 779\u001b[1;33m             \u001b[0mjob\u001b[0m \u001b[1;33m=\u001b[0m \u001b[0mself\u001b[0m\u001b[1;33m.\u001b[0m\u001b[0m_backend\u001b[0m\u001b[1;33m.\u001b[0m\u001b[0mapply_async\u001b[0m\u001b[1;33m(\u001b[0m\u001b[0mbatch\u001b[0m\u001b[1;33m,\u001b[0m \u001b[0mcallback\u001b[0m\u001b[1;33m=\u001b[0m\u001b[0mcb\u001b[0m\u001b[1;33m)\u001b[0m\u001b[1;33m\u001b[0m\u001b[1;33m\u001b[0m\u001b[0m\n\u001b[0m\u001b[0;32m    780\u001b[0m             \u001b[1;31m# A job can complete so quickly than its callback is\u001b[0m\u001b[1;33m\u001b[0m\u001b[1;33m\u001b[0m\u001b[0m\n\u001b[0;32m    781\u001b[0m             \u001b[1;31m# called before we get here, causing self._jobs to\u001b[0m\u001b[1;33m\u001b[0m\u001b[1;33m\u001b[0m\u001b[0m\n",
      "\u001b[1;32mC:\\anacond\\lib\\site-packages\\joblib\\_parallel_backends.py\u001b[0m in \u001b[0;36mapply_async\u001b[1;34m(self, func, callback)\u001b[0m\n\u001b[0;32m    206\u001b[0m     \u001b[1;32mdef\u001b[0m \u001b[0mapply_async\u001b[0m\u001b[1;33m(\u001b[0m\u001b[0mself\u001b[0m\u001b[1;33m,\u001b[0m \u001b[0mfunc\u001b[0m\u001b[1;33m,\u001b[0m \u001b[0mcallback\u001b[0m\u001b[1;33m=\u001b[0m\u001b[1;32mNone\u001b[0m\u001b[1;33m)\u001b[0m\u001b[1;33m:\u001b[0m\u001b[1;33m\u001b[0m\u001b[1;33m\u001b[0m\u001b[0m\n\u001b[0;32m    207\u001b[0m         \u001b[1;34m\"\"\"Schedule a func to be run\"\"\"\u001b[0m\u001b[1;33m\u001b[0m\u001b[1;33m\u001b[0m\u001b[0m\n\u001b[1;32m--> 208\u001b[1;33m         \u001b[0mresult\u001b[0m \u001b[1;33m=\u001b[0m \u001b[0mImmediateResult\u001b[0m\u001b[1;33m(\u001b[0m\u001b[0mfunc\u001b[0m\u001b[1;33m)\u001b[0m\u001b[1;33m\u001b[0m\u001b[1;33m\u001b[0m\u001b[0m\n\u001b[0m\u001b[0;32m    209\u001b[0m         \u001b[1;32mif\u001b[0m \u001b[0mcallback\u001b[0m\u001b[1;33m:\u001b[0m\u001b[1;33m\u001b[0m\u001b[1;33m\u001b[0m\u001b[0m\n\u001b[0;32m    210\u001b[0m             \u001b[0mcallback\u001b[0m\u001b[1;33m(\u001b[0m\u001b[0mresult\u001b[0m\u001b[1;33m)\u001b[0m\u001b[1;33m\u001b[0m\u001b[1;33m\u001b[0m\u001b[0m\n",
      "\u001b[1;32mC:\\anacond\\lib\\site-packages\\joblib\\_parallel_backends.py\u001b[0m in \u001b[0;36m__init__\u001b[1;34m(self, batch)\u001b[0m\n\u001b[0;32m    570\u001b[0m         \u001b[1;31m# Don't delay the application, to avoid keeping the input\u001b[0m\u001b[1;33m\u001b[0m\u001b[1;33m\u001b[0m\u001b[0m\n\u001b[0;32m    571\u001b[0m         \u001b[1;31m# arguments in memory\u001b[0m\u001b[1;33m\u001b[0m\u001b[1;33m\u001b[0m\u001b[0m\n\u001b[1;32m--> 572\u001b[1;33m         \u001b[0mself\u001b[0m\u001b[1;33m.\u001b[0m\u001b[0mresults\u001b[0m \u001b[1;33m=\u001b[0m \u001b[0mbatch\u001b[0m\u001b[1;33m(\u001b[0m\u001b[1;33m)\u001b[0m\u001b[1;33m\u001b[0m\u001b[1;33m\u001b[0m\u001b[0m\n\u001b[0m\u001b[0;32m    573\u001b[0m \u001b[1;33m\u001b[0m\u001b[0m\n\u001b[0;32m    574\u001b[0m     \u001b[1;32mdef\u001b[0m \u001b[0mget\u001b[0m\u001b[1;33m(\u001b[0m\u001b[0mself\u001b[0m\u001b[1;33m)\u001b[0m\u001b[1;33m:\u001b[0m\u001b[1;33m\u001b[0m\u001b[1;33m\u001b[0m\u001b[0m\n",
      "\u001b[1;32mC:\\anacond\\lib\\site-packages\\joblib\\parallel.py\u001b[0m in \u001b[0;36m__call__\u001b[1;34m(self)\u001b[0m\n\u001b[0;32m    260\u001b[0m         \u001b[1;31m# change the default number of processes to -1\u001b[0m\u001b[1;33m\u001b[0m\u001b[1;33m\u001b[0m\u001b[0m\n\u001b[0;32m    261\u001b[0m         \u001b[1;32mwith\u001b[0m \u001b[0mparallel_backend\u001b[0m\u001b[1;33m(\u001b[0m\u001b[0mself\u001b[0m\u001b[1;33m.\u001b[0m\u001b[0m_backend\u001b[0m\u001b[1;33m,\u001b[0m \u001b[0mn_jobs\u001b[0m\u001b[1;33m=\u001b[0m\u001b[0mself\u001b[0m\u001b[1;33m.\u001b[0m\u001b[0m_n_jobs\u001b[0m\u001b[1;33m)\u001b[0m\u001b[1;33m:\u001b[0m\u001b[1;33m\u001b[0m\u001b[1;33m\u001b[0m\u001b[0m\n\u001b[1;32m--> 262\u001b[1;33m             return [func(*args, **kwargs)\n\u001b[0m\u001b[0;32m    263\u001b[0m                     for func, args, kwargs in self.items]\n\u001b[0;32m    264\u001b[0m \u001b[1;33m\u001b[0m\u001b[0m\n",
      "\u001b[1;32mC:\\anacond\\lib\\site-packages\\joblib\\parallel.py\u001b[0m in \u001b[0;36m<listcomp>\u001b[1;34m(.0)\u001b[0m\n\u001b[0;32m    260\u001b[0m         \u001b[1;31m# change the default number of processes to -1\u001b[0m\u001b[1;33m\u001b[0m\u001b[1;33m\u001b[0m\u001b[0m\n\u001b[0;32m    261\u001b[0m         \u001b[1;32mwith\u001b[0m \u001b[0mparallel_backend\u001b[0m\u001b[1;33m(\u001b[0m\u001b[0mself\u001b[0m\u001b[1;33m.\u001b[0m\u001b[0m_backend\u001b[0m\u001b[1;33m,\u001b[0m \u001b[0mn_jobs\u001b[0m\u001b[1;33m=\u001b[0m\u001b[0mself\u001b[0m\u001b[1;33m.\u001b[0m\u001b[0m_n_jobs\u001b[0m\u001b[1;33m)\u001b[0m\u001b[1;33m:\u001b[0m\u001b[1;33m\u001b[0m\u001b[1;33m\u001b[0m\u001b[0m\n\u001b[1;32m--> 262\u001b[1;33m             return [func(*args, **kwargs)\n\u001b[0m\u001b[0;32m    263\u001b[0m                     for func, args, kwargs in self.items]\n\u001b[0;32m    264\u001b[0m \u001b[1;33m\u001b[0m\u001b[0m\n",
      "\u001b[1;32mC:\\anacond\\lib\\site-packages\\sklearn\\utils\\fixes.py\u001b[0m in \u001b[0;36m__call__\u001b[1;34m(self, *args, **kwargs)\u001b[0m\n\u001b[0;32m    220\u001b[0m     \u001b[1;32mdef\u001b[0m \u001b[0m__call__\u001b[0m\u001b[1;33m(\u001b[0m\u001b[0mself\u001b[0m\u001b[1;33m,\u001b[0m \u001b[1;33m*\u001b[0m\u001b[0margs\u001b[0m\u001b[1;33m,\u001b[0m \u001b[1;33m**\u001b[0m\u001b[0mkwargs\u001b[0m\u001b[1;33m)\u001b[0m\u001b[1;33m:\u001b[0m\u001b[1;33m\u001b[0m\u001b[1;33m\u001b[0m\u001b[0m\n\u001b[0;32m    221\u001b[0m         \u001b[1;32mwith\u001b[0m \u001b[0mconfig_context\u001b[0m\u001b[1;33m(\u001b[0m\u001b[1;33m**\u001b[0m\u001b[0mself\u001b[0m\u001b[1;33m.\u001b[0m\u001b[0mconfig\u001b[0m\u001b[1;33m)\u001b[0m\u001b[1;33m:\u001b[0m\u001b[1;33m\u001b[0m\u001b[1;33m\u001b[0m\u001b[0m\n\u001b[1;32m--> 222\u001b[1;33m             \u001b[1;32mreturn\u001b[0m \u001b[0mself\u001b[0m\u001b[1;33m.\u001b[0m\u001b[0mfunction\u001b[0m\u001b[1;33m(\u001b[0m\u001b[1;33m*\u001b[0m\u001b[0margs\u001b[0m\u001b[1;33m,\u001b[0m \u001b[1;33m**\u001b[0m\u001b[0mkwargs\u001b[0m\u001b[1;33m)\u001b[0m\u001b[1;33m\u001b[0m\u001b[1;33m\u001b[0m\u001b[0m\n\u001b[0m",
      "\u001b[1;32mC:\\anacond\\lib\\site-packages\\sklearn\\model_selection\\_validation.py\u001b[0m in \u001b[0;36m_fit_and_score\u001b[1;34m(estimator, X, y, scorer, train, test, verbose, parameters, fit_params, return_train_score, return_parameters, return_n_test_samples, return_times, return_estimator, split_progress, candidate_progress, error_score)\u001b[0m\n\u001b[0;32m    596\u001b[0m             \u001b[0mestimator\u001b[0m\u001b[1;33m.\u001b[0m\u001b[0mfit\u001b[0m\u001b[1;33m(\u001b[0m\u001b[0mX_train\u001b[0m\u001b[1;33m,\u001b[0m \u001b[1;33m**\u001b[0m\u001b[0mfit_params\u001b[0m\u001b[1;33m)\u001b[0m\u001b[1;33m\u001b[0m\u001b[1;33m\u001b[0m\u001b[0m\n\u001b[0;32m    597\u001b[0m         \u001b[1;32melse\u001b[0m\u001b[1;33m:\u001b[0m\u001b[1;33m\u001b[0m\u001b[1;33m\u001b[0m\u001b[0m\n\u001b[1;32m--> 598\u001b[1;33m             \u001b[0mestimator\u001b[0m\u001b[1;33m.\u001b[0m\u001b[0mfit\u001b[0m\u001b[1;33m(\u001b[0m\u001b[0mX_train\u001b[0m\u001b[1;33m,\u001b[0m \u001b[0my_train\u001b[0m\u001b[1;33m,\u001b[0m \u001b[1;33m**\u001b[0m\u001b[0mfit_params\u001b[0m\u001b[1;33m)\u001b[0m\u001b[1;33m\u001b[0m\u001b[1;33m\u001b[0m\u001b[0m\n\u001b[0m\u001b[0;32m    599\u001b[0m \u001b[1;33m\u001b[0m\u001b[0m\n\u001b[0;32m    600\u001b[0m     \u001b[1;32mexcept\u001b[0m \u001b[0mException\u001b[0m \u001b[1;32mas\u001b[0m \u001b[0me\u001b[0m\u001b[1;33m:\u001b[0m\u001b[1;33m\u001b[0m\u001b[1;33m\u001b[0m\u001b[0m\n",
      "\u001b[1;32mC:\\anacond\\lib\\site-packages\\sklearn\\ensemble\\_forest.py\u001b[0m in \u001b[0;36mfit\u001b[1;34m(self, X, y, sample_weight)\u001b[0m\n\u001b[0;32m    375\u001b[0m                 \u001b[0mrandom_state\u001b[0m\u001b[1;33m.\u001b[0m\u001b[0mrandint\u001b[0m\u001b[1;33m(\u001b[0m\u001b[0mMAX_INT\u001b[0m\u001b[1;33m,\u001b[0m \u001b[0msize\u001b[0m\u001b[1;33m=\u001b[0m\u001b[0mlen\u001b[0m\u001b[1;33m(\u001b[0m\u001b[0mself\u001b[0m\u001b[1;33m.\u001b[0m\u001b[0mestimators_\u001b[0m\u001b[1;33m)\u001b[0m\u001b[1;33m)\u001b[0m\u001b[1;33m\u001b[0m\u001b[1;33m\u001b[0m\u001b[0m\n\u001b[0;32m    376\u001b[0m \u001b[1;33m\u001b[0m\u001b[0m\n\u001b[1;32m--> 377\u001b[1;33m             trees = [self._make_estimator(append=False,\n\u001b[0m\u001b[0;32m    378\u001b[0m                                           random_state=random_state)\n\u001b[0;32m    379\u001b[0m                      for i in range(n_more_estimators)]\n",
      "\u001b[1;32mC:\\anacond\\lib\\site-packages\\sklearn\\ensemble\\_forest.py\u001b[0m in \u001b[0;36m<listcomp>\u001b[1;34m(.0)\u001b[0m\n\u001b[0;32m    375\u001b[0m                 \u001b[0mrandom_state\u001b[0m\u001b[1;33m.\u001b[0m\u001b[0mrandint\u001b[0m\u001b[1;33m(\u001b[0m\u001b[0mMAX_INT\u001b[0m\u001b[1;33m,\u001b[0m \u001b[0msize\u001b[0m\u001b[1;33m=\u001b[0m\u001b[0mlen\u001b[0m\u001b[1;33m(\u001b[0m\u001b[0mself\u001b[0m\u001b[1;33m.\u001b[0m\u001b[0mestimators_\u001b[0m\u001b[1;33m)\u001b[0m\u001b[1;33m)\u001b[0m\u001b[1;33m\u001b[0m\u001b[1;33m\u001b[0m\u001b[0m\n\u001b[0;32m    376\u001b[0m \u001b[1;33m\u001b[0m\u001b[0m\n\u001b[1;32m--> 377\u001b[1;33m             trees = [self._make_estimator(append=False,\n\u001b[0m\u001b[0;32m    378\u001b[0m                                           random_state=random_state)\n\u001b[0;32m    379\u001b[0m                      for i in range(n_more_estimators)]\n",
      "\u001b[1;32mC:\\anacond\\lib\\site-packages\\sklearn\\ensemble\\_base.py\u001b[0m in \u001b[0;36m_make_estimator\u001b[1;34m(self, append, random_state)\u001b[0m\n\u001b[0;32m    153\u001b[0m \u001b[1;33m\u001b[0m\u001b[0m\n\u001b[0;32m    154\u001b[0m         \u001b[1;32mif\u001b[0m \u001b[0mrandom_state\u001b[0m \u001b[1;32mis\u001b[0m \u001b[1;32mnot\u001b[0m \u001b[1;32mNone\u001b[0m\u001b[1;33m:\u001b[0m\u001b[1;33m\u001b[0m\u001b[1;33m\u001b[0m\u001b[0m\n\u001b[1;32m--> 155\u001b[1;33m             \u001b[0m_set_random_states\u001b[0m\u001b[1;33m(\u001b[0m\u001b[0mestimator\u001b[0m\u001b[1;33m,\u001b[0m \u001b[0mrandom_state\u001b[0m\u001b[1;33m)\u001b[0m\u001b[1;33m\u001b[0m\u001b[1;33m\u001b[0m\u001b[0m\n\u001b[0m\u001b[0;32m    156\u001b[0m \u001b[1;33m\u001b[0m\u001b[0m\n\u001b[0;32m    157\u001b[0m         \u001b[1;32mif\u001b[0m \u001b[0mappend\u001b[0m\u001b[1;33m:\u001b[0m\u001b[1;33m\u001b[0m\u001b[1;33m\u001b[0m\u001b[0m\n",
      "\u001b[1;32mC:\\anacond\\lib\\site-packages\\sklearn\\ensemble\\_base.py\u001b[0m in \u001b[0;36m_set_random_states\u001b[1;34m(estimator, random_state)\u001b[0m\n\u001b[0;32m     73\u001b[0m     \u001b[1;32mfor\u001b[0m \u001b[0mkey\u001b[0m \u001b[1;32min\u001b[0m \u001b[0msorted\u001b[0m\u001b[1;33m(\u001b[0m\u001b[0mestimator\u001b[0m\u001b[1;33m.\u001b[0m\u001b[0mget_params\u001b[0m\u001b[1;33m(\u001b[0m\u001b[0mdeep\u001b[0m\u001b[1;33m=\u001b[0m\u001b[1;32mTrue\u001b[0m\u001b[1;33m)\u001b[0m\u001b[1;33m)\u001b[0m\u001b[1;33m:\u001b[0m\u001b[1;33m\u001b[0m\u001b[1;33m\u001b[0m\u001b[0m\n\u001b[0;32m     74\u001b[0m         \u001b[1;32mif\u001b[0m \u001b[0mkey\u001b[0m \u001b[1;33m==\u001b[0m \u001b[1;34m'random_state'\u001b[0m \u001b[1;32mor\u001b[0m \u001b[0mkey\u001b[0m\u001b[1;33m.\u001b[0m\u001b[0mendswith\u001b[0m\u001b[1;33m(\u001b[0m\u001b[1;34m'__random_state'\u001b[0m\u001b[1;33m)\u001b[0m\u001b[1;33m:\u001b[0m\u001b[1;33m\u001b[0m\u001b[1;33m\u001b[0m\u001b[0m\n\u001b[1;32m---> 75\u001b[1;33m             \u001b[0mto_set\u001b[0m\u001b[1;33m[\u001b[0m\u001b[0mkey\u001b[0m\u001b[1;33m]\u001b[0m \u001b[1;33m=\u001b[0m \u001b[0mrandom_state\u001b[0m\u001b[1;33m.\u001b[0m\u001b[0mrandint\u001b[0m\u001b[1;33m(\u001b[0m\u001b[0mnp\u001b[0m\u001b[1;33m.\u001b[0m\u001b[0miinfo\u001b[0m\u001b[1;33m(\u001b[0m\u001b[0mnp\u001b[0m\u001b[1;33m.\u001b[0m\u001b[0mint32\u001b[0m\u001b[1;33m)\u001b[0m\u001b[1;33m.\u001b[0m\u001b[0mmax\u001b[0m\u001b[1;33m)\u001b[0m\u001b[1;33m\u001b[0m\u001b[1;33m\u001b[0m\u001b[0m\n\u001b[0m\u001b[0;32m     76\u001b[0m \u001b[1;33m\u001b[0m\u001b[0m\n\u001b[0;32m     77\u001b[0m     \u001b[1;32mif\u001b[0m \u001b[0mto_set\u001b[0m\u001b[1;33m:\u001b[0m\u001b[1;33m\u001b[0m\u001b[1;33m\u001b[0m\u001b[0m\n",
      "\u001b[1;31mKeyboardInterrupt\u001b[0m: "
     ]
    }
   ],
   "source": [
    "from sklearn.ensemble import RandomForestClassifier\n",
    "from sklearn.model_selection import train_test_split, GridSearchCV\n",
    "\n",
    "x_train, x_test, y_train, y_test = train_test_split(df_without.drop('quality', axis = 1), df_without['quality'], test_size = 0.2)\n",
    "\n",
    "clf = RandomForestClassifier(max_depth = 2, criterion = 'gini')\n",
    "parameters = {'max_depth': range(2, 10), 'min_samples_split': range(2, 10)}\n",
    "gsv = GridSearchCV(clf, parameters)\n",
    "gsv.fit(x_train, y_train)\n",
    "gsv.score(x_test, y_test)"
   ]
  },
  {
   "cell_type": "code",
   "execution_count": null,
   "id": "07509692",
   "metadata": {},
   "outputs": [],
   "source": [
    "print(gsv.best_estimator_, '\\n', gsv.best_params_)"
   ]
  },
  {
   "cell_type": "code",
   "execution_count": null,
   "id": "74ab2256",
   "metadata": {},
   "outputs": [],
   "source": [
    "x_train, x_test, y_train, y_test = train_test_split(df_with_3_and_8.drop('quality', axis = 1), df_with_3_and_8['quality'], test_size = 0.2)\n",
    "\n",
    "clf1 = RandomForestClassifier(max_depth = 2, criterion = 'gini')\n",
    "parameters1 = {'max_depth': range(2, 10), 'min_samples_split': range(2, 10)}\n",
    "gsv1 = GridSearchCV(clf1, parameters1)\n",
    "gsv1.fit(x_train, y_train)\n",
    "gsv1.score(x_test, y_test)"
   ]
  },
  {
   "cell_type": "code",
   "execution_count": null,
   "id": "0a5ddf0e",
   "metadata": {},
   "outputs": [],
   "source": [
    "print(gsv1.best_estimator_, '\\n', gsv1.best_params_)"
   ]
  },
  {
   "cell_type": "code",
   "execution_count": null,
   "id": "6fdcb8ea",
   "metadata": {},
   "outputs": [],
   "source": [
    "f, ax = plt.subplots(figsize=(11, 9))\n",
    "sns.heatmap(df.corr(), annot = True)"
   ]
  },
  {
   "cell_type": "code",
   "execution_count": null,
   "id": "4a5d68cc",
   "metadata": {},
   "outputs": [],
   "source": [
    "df_without_drop_col = df_without.drop(axis = 1, columns = ['volatile acidity', 'total sulfur dioxide', 'density'])"
   ]
  },
  {
   "cell_type": "code",
   "execution_count": null,
   "id": "c795c99a",
   "metadata": {},
   "outputs": [],
   "source": [
    "df_without_drop_col"
   ]
  },
  {
   "cell_type": "code",
   "execution_count": null,
   "id": "73197680",
   "metadata": {},
   "outputs": [],
   "source": [
    "x_train, x_test, y_train, y_test = train_test_split(df_without_drop_col.drop('quality', axis = 1), df_without_drop_col['quality'], test_size = 0.2)\n",
    "\n",
    "clf2 = RandomForestClassifier(max_depth = 2, criterion = 'gini')\n",
    "parameters2 = {'max_depth': range(2, 10), 'min_samples_split': range(2, 10)}\n",
    "gsv2 = GridSearchCV(clf2, parameters2)\n",
    "gsv2.fit(x_train, y_train)\n",
    "gsv2.score(x_test, y_test)"
   ]
  },
  {
   "cell_type": "code",
   "execution_count": null,
   "id": "4a1feb8e",
   "metadata": {},
   "outputs": [],
   "source": [
    "print(gsv2.best_estimator_, end = '\\n')\n",
    "print(gsv2.best_params_)"
   ]
  },
  {
   "cell_type": "markdown",
   "id": "8282b0a6",
   "metadata": {},
   "source": [
    "Нейронка"
   ]
  },
  {
   "cell_type": "code",
   "execution_count": 112,
   "id": "6e1105fe",
   "metadata": {},
   "outputs": [],
   "source": [
    "from tensorflow import keras\n",
    "from tensorflow.keras.datasets import mnist\n",
    "from tensorflow.keras.layers import Dense, Flatten"
   ]
  },
  {
   "cell_type": "code",
   "execution_count": 113,
   "id": "8a18df6a",
   "metadata": {},
   "outputs": [
    {
     "name": "stdout",
     "output_type": "stream",
     "text": [
      "Downloading data from https://storage.googleapis.com/tensorflow/tf-keras-datasets/mnist.npz\n",
      "11490434/11490434 [==============================] - 3s 0us/step\n"
     ]
    }
   ],
   "source": [
    "(x, x_t), (y, y_t) = mnist.load_data()"
   ]
  },
  {
   "cell_type": "code",
   "execution_count": 131,
   "id": "a293551b",
   "metadata": {},
   "outputs": [
    {
     "data": {
      "text/plain": [
       "(28, 28)"
      ]
     },
     "execution_count": 131,
     "metadata": {},
     "output_type": "execute_result"
    }
   ],
   "source": [
    "y[0].shape"
   ]
  },
  {
   "cell_type": "code",
   "execution_count": 223,
   "id": "3b555908",
   "metadata": {},
   "outputs": [
    {
     "name": "stdout",
     "output_type": "stream",
     "text": [
      "Model: \"sequential_14\"\n",
      "_________________________________________________________________\n",
      " Layer (type)                Output Shape              Param #   \n",
      "=================================================================\n",
      " flatten_16 (Flatten)        (None, 11)                0         \n",
      "                                                                 \n",
      " dense_28 (Dense)            (None, 100)               1200      \n",
      "                                                                 \n",
      " dense_29 (Dense)            (None, 9)                 909       \n",
      "                                                                 \n",
      "=================================================================\n",
      "Total params: 2109 (8.24 KB)\n",
      "Trainable params: 2109 (8.24 KB)\n",
      "Non-trainable params: 0 (0.00 Byte)\n",
      "_________________________________________________________________\n",
      "None\n"
     ]
    }
   ],
   "source": [
    "model = keras.Sequential([\n",
    "    Flatten(input_shape = (11, 1)),\n",
    "    Dense(100, activation = 'relu'),\n",
    "    Dense(9, activation = 'softmax')\n",
    "])\n",
    "\n",
    "print(model.summary())"
   ]
  },
  {
   "cell_type": "code",
   "execution_count": 224,
   "id": "a7365450",
   "metadata": {},
   "outputs": [],
   "source": [
    "X_train, X_test, Y_train, Y_test = train_test_split(df.drop('quality', axis = 1), df['quality'], test_size = 0.2)"
   ]
  },
  {
   "cell_type": "code",
   "execution_count": 225,
   "id": "f6b3c38a",
   "metadata": {},
   "outputs": [],
   "source": [
    "X_train = np.array([list(X_train.loc[index]) for index, row in X_train.iterrows()])\n",
    "Y_train = np.array([[i] for i in Y_train])\n",
    "X_test = np.array([list(X_test.loc[index]) for index, row in X_test.iterrows()])\n",
    "Y_test = np.array([[i] for i in Y_test]) "
   ]
  },
  {
   "cell_type": "code",
   "execution_count": 226,
   "id": "afe77b59",
   "metadata": {},
   "outputs": [],
   "source": [
    "X_train = np.array([i.reshape(11, 1) for i in X_train])\n",
    "X_test = np.array([i.reshape(11, 1) for i in X_test])"
   ]
  },
  {
   "cell_type": "code",
   "execution_count": 227,
   "id": "21d01450",
   "metadata": {},
   "outputs": [],
   "source": [
    "Y_train_cat = keras.utils.to_categorical(Y_train)\n",
    "Y_test_cat = keras.utils.to_categorical(Y_test)"
   ]
  },
  {
   "cell_type": "code",
   "execution_count": 228,
   "id": "1086fe1f",
   "metadata": {},
   "outputs": [
    {
     "data": {
      "text/plain": [
       "(9,)"
      ]
     },
     "execution_count": 228,
     "metadata": {},
     "output_type": "execute_result"
    }
   ],
   "source": [
    "Y_train_cat[0].shape"
   ]
  },
  {
   "cell_type": "code",
   "execution_count": 229,
   "id": "d52157cc",
   "metadata": {},
   "outputs": [],
   "source": [
    "model.compile(optimizer = 'adam', \n",
    "              loss = 'categorical_crossentropy',\n",
    "              metrics = ['accuracy'])"
   ]
  },
  {
   "cell_type": "code",
   "execution_count": 230,
   "id": "4936f8aa",
   "metadata": {},
   "outputs": [
    {
     "name": "stdout",
     "output_type": "stream",
     "text": [
      "Epoch 1/100\n",
      "29/29 [==============================] - 1s 10ms/step - loss: 1.6224 - accuracy: 0.4301 - val_loss: 1.2336 - val_accuracy: 0.5183\n",
      "Epoch 2/100\n",
      "29/29 [==============================] - 0s 5ms/step - loss: 1.2234 - accuracy: 0.4745 - val_loss: 1.1658 - val_accuracy: 0.5244\n",
      "Epoch 3/100\n",
      "29/29 [==============================] - 0s 5ms/step - loss: 1.1780 - accuracy: 0.5005 - val_loss: 1.1859 - val_accuracy: 0.4756\n",
      "Epoch 4/100\n",
      "29/29 [==============================] - 0s 5ms/step - loss: 1.1428 - accuracy: 0.4886 - val_loss: 1.1490 - val_accuracy: 0.4878\n",
      "Epoch 5/100\n",
      "29/29 [==============================] - 0s 4ms/step - loss: 1.1446 - accuracy: 0.5081 - val_loss: 1.2076 - val_accuracy: 0.4512\n",
      "Epoch 6/100\n",
      "29/29 [==============================] - 0s 4ms/step - loss: 1.1548 - accuracy: 0.5049 - val_loss: 1.1345 - val_accuracy: 0.5366\n",
      "Epoch 7/100\n",
      "29/29 [==============================] - 0s 4ms/step - loss: 1.1237 - accuracy: 0.5081 - val_loss: 1.1465 - val_accuracy: 0.5183\n",
      "Epoch 8/100\n",
      "29/29 [==============================] - 0s 4ms/step - loss: 1.1195 - accuracy: 0.5341 - val_loss: 1.1790 - val_accuracy: 0.5000\n",
      "Epoch 9/100\n",
      "29/29 [==============================] - 0s 4ms/step - loss: 1.1253 - accuracy: 0.5049 - val_loss: 1.1380 - val_accuracy: 0.5305\n",
      "Epoch 10/100\n",
      "29/29 [==============================] - 0s 4ms/step - loss: 1.1051 - accuracy: 0.5168 - val_loss: 1.1242 - val_accuracy: 0.5549\n",
      "Epoch 11/100\n",
      "29/29 [==============================] - 0s 5ms/step - loss: 1.0954 - accuracy: 0.5179 - val_loss: 1.1290 - val_accuracy: 0.5366\n",
      "Epoch 12/100\n",
      "29/29 [==============================] - 0s 5ms/step - loss: 1.0866 - accuracy: 0.5395 - val_loss: 1.1209 - val_accuracy: 0.5366\n",
      "Epoch 13/100\n",
      "29/29 [==============================] - 0s 4ms/step - loss: 1.0942 - accuracy: 0.5135 - val_loss: 1.1459 - val_accuracy: 0.5305\n",
      "Epoch 14/100\n",
      "29/29 [==============================] - 0s 4ms/step - loss: 1.0824 - accuracy: 0.5330 - val_loss: 1.1093 - val_accuracy: 0.5671\n",
      "Epoch 15/100\n",
      "29/29 [==============================] - 0s 5ms/step - loss: 1.0876 - accuracy: 0.5330 - val_loss: 1.1093 - val_accuracy: 0.5671\n",
      "Epoch 16/100\n",
      "29/29 [==============================] - 0s 4ms/step - loss: 1.0846 - accuracy: 0.5255 - val_loss: 1.1400 - val_accuracy: 0.5488\n",
      "Epoch 17/100\n",
      "29/29 [==============================] - 0s 6ms/step - loss: 1.0952 - accuracy: 0.5276 - val_loss: 1.1399 - val_accuracy: 0.5183\n",
      "Epoch 18/100\n",
      "29/29 [==============================] - 0s 4ms/step - loss: 1.0777 - accuracy: 0.5244 - val_loss: 1.1214 - val_accuracy: 0.5488\n",
      "Epoch 19/100\n",
      "29/29 [==============================] - 0s 5ms/step - loss: 1.0601 - accuracy: 0.5428 - val_loss: 1.1144 - val_accuracy: 0.5427\n",
      "Epoch 20/100\n",
      "29/29 [==============================] - 0s 5ms/step - loss: 1.0766 - accuracy: 0.5244 - val_loss: 1.1038 - val_accuracy: 0.5549\n",
      "Epoch 21/100\n",
      "29/29 [==============================] - 0s 6ms/step - loss: 1.0657 - accuracy: 0.5493 - val_loss: 1.1068 - val_accuracy: 0.5366\n",
      "Epoch 22/100\n",
      "29/29 [==============================] - 0s 5ms/step - loss: 1.0566 - accuracy: 0.5363 - val_loss: 1.1139 - val_accuracy: 0.5732\n",
      "Epoch 23/100\n",
      "29/29 [==============================] - 0s 5ms/step - loss: 1.0744 - accuracy: 0.5428 - val_loss: 1.1056 - val_accuracy: 0.5854\n",
      "Epoch 24/100\n",
      "29/29 [==============================] - 0s 4ms/step - loss: 1.0558 - accuracy: 0.5385 - val_loss: 1.1392 - val_accuracy: 0.5305\n",
      "Epoch 25/100\n",
      "29/29 [==============================] - 0s 4ms/step - loss: 1.0688 - accuracy: 0.5125 - val_loss: 1.1002 - val_accuracy: 0.5549\n",
      "Epoch 26/100\n",
      "29/29 [==============================] - 1s 28ms/step - loss: 1.0774 - accuracy: 0.5190 - val_loss: 1.0965 - val_accuracy: 0.5854\n",
      "Epoch 27/100\n",
      "29/29 [==============================] - 0s 5ms/step - loss: 1.0448 - accuracy: 0.5536 - val_loss: 1.0796 - val_accuracy: 0.5854\n",
      "Epoch 28/100\n",
      "29/29 [==============================] - 0s 15ms/step - loss: 1.0457 - accuracy: 0.5244 - val_loss: 1.0820 - val_accuracy: 0.5671\n",
      "Epoch 29/100\n",
      "29/29 [==============================] - 0s 5ms/step - loss: 1.0163 - accuracy: 0.5655 - val_loss: 1.0880 - val_accuracy: 0.5671\n",
      "Epoch 30/100\n",
      "29/29 [==============================] - 0s 5ms/step - loss: 1.0330 - accuracy: 0.5471 - val_loss: 1.0622 - val_accuracy: 0.5854\n",
      "Epoch 31/100\n",
      "29/29 [==============================] - 0s 4ms/step - loss: 1.0299 - accuracy: 0.5710 - val_loss: 1.0884 - val_accuracy: 0.5854\n",
      "Epoch 32/100\n",
      "29/29 [==============================] - 0s 4ms/step - loss: 1.0439 - accuracy: 0.5255 - val_loss: 1.0809 - val_accuracy: 0.5671\n",
      "Epoch 33/100\n",
      "29/29 [==============================] - 0s 4ms/step - loss: 1.0181 - accuracy: 0.5482 - val_loss: 1.0781 - val_accuracy: 0.5732\n",
      "Epoch 34/100\n",
      "29/29 [==============================] - 0s 4ms/step - loss: 1.0110 - accuracy: 0.5590 - val_loss: 1.0818 - val_accuracy: 0.5549\n",
      "Epoch 35/100\n",
      "29/29 [==============================] - 0s 4ms/step - loss: 1.0042 - accuracy: 0.5742 - val_loss: 1.0711 - val_accuracy: 0.5793\n",
      "Epoch 36/100\n",
      "29/29 [==============================] - 0s 4ms/step - loss: 1.0171 - accuracy: 0.5363 - val_loss: 1.0974 - val_accuracy: 0.5793\n",
      "Epoch 37/100\n",
      "29/29 [==============================] - 0s 4ms/step - loss: 1.0077 - accuracy: 0.5742 - val_loss: 1.1015 - val_accuracy: 0.5976\n",
      "Epoch 38/100\n",
      "29/29 [==============================] - 0s 4ms/step - loss: 0.9991 - accuracy: 0.5688 - val_loss: 1.0938 - val_accuracy: 0.5427\n",
      "Epoch 39/100\n",
      "29/29 [==============================] - 0s 4ms/step - loss: 1.0227 - accuracy: 0.5536 - val_loss: 1.0507 - val_accuracy: 0.5732\n",
      "Epoch 40/100\n",
      "29/29 [==============================] - 0s 4ms/step - loss: 1.0061 - accuracy: 0.5515 - val_loss: 1.0720 - val_accuracy: 0.5610\n",
      "Epoch 41/100\n",
      "29/29 [==============================] - 0s 4ms/step - loss: 1.0016 - accuracy: 0.5710 - val_loss: 1.0841 - val_accuracy: 0.5610\n",
      "Epoch 42/100\n",
      "29/29 [==============================] - 0s 4ms/step - loss: 0.9979 - accuracy: 0.5547 - val_loss: 1.0592 - val_accuracy: 0.5610\n",
      "Epoch 43/100\n",
      "29/29 [==============================] - 0s 4ms/step - loss: 0.9825 - accuracy: 0.5731 - val_loss: 1.0723 - val_accuracy: 0.5793\n",
      "Epoch 44/100\n",
      "29/29 [==============================] - 0s 6ms/step - loss: 1.0071 - accuracy: 0.5471 - val_loss: 1.0638 - val_accuracy: 0.5732\n",
      "Epoch 45/100\n",
      "29/29 [==============================] - 0s 5ms/step - loss: 0.9869 - accuracy: 0.5840 - val_loss: 1.0675 - val_accuracy: 0.5671\n",
      "Epoch 46/100\n",
      "29/29 [==============================] - 0s 4ms/step - loss: 1.0038 - accuracy: 0.5515 - val_loss: 1.0932 - val_accuracy: 0.5427\n",
      "Epoch 47/100\n",
      "29/29 [==============================] - 0s 4ms/step - loss: 1.0594 - accuracy: 0.5341 - val_loss: 1.0971 - val_accuracy: 0.5671\n",
      "Epoch 48/100\n",
      "29/29 [==============================] - 0s 4ms/step - loss: 0.9860 - accuracy: 0.5764 - val_loss: 1.0613 - val_accuracy: 0.5732\n",
      "Epoch 49/100\n",
      "29/29 [==============================] - 0s 4ms/step - loss: 0.9743 - accuracy: 0.5829 - val_loss: 1.0637 - val_accuracy: 0.5732\n",
      "Epoch 50/100\n",
      "29/29 [==============================] - 0s 4ms/step - loss: 0.9758 - accuracy: 0.5785 - val_loss: 1.0487 - val_accuracy: 0.5793\n",
      "Epoch 51/100\n",
      "29/29 [==============================] - 0s 4ms/step - loss: 0.9775 - accuracy: 0.5850 - val_loss: 1.0459 - val_accuracy: 0.5793\n",
      "Epoch 52/100\n",
      "29/29 [==============================] - 0s 4ms/step - loss: 0.9751 - accuracy: 0.5807 - val_loss: 1.0645 - val_accuracy: 0.5793\n",
      "Epoch 53/100\n",
      "29/29 [==============================] - 0s 4ms/step - loss: 0.9743 - accuracy: 0.5840 - val_loss: 1.0493 - val_accuracy: 0.5732\n",
      "Epoch 54/100\n",
      "29/29 [==============================] - 0s 4ms/step - loss: 0.9659 - accuracy: 0.5905 - val_loss: 1.0940 - val_accuracy: 0.5610\n",
      "Epoch 55/100\n",
      "29/29 [==============================] - 0s 4ms/step - loss: 0.9875 - accuracy: 0.5785 - val_loss: 1.1146 - val_accuracy: 0.4756\n",
      "Epoch 56/100\n",
      "29/29 [==============================] - 0s 4ms/step - loss: 0.9940 - accuracy: 0.5590 - val_loss: 1.0883 - val_accuracy: 0.5549\n",
      "Epoch 57/100\n",
      "29/29 [==============================] - 0s 4ms/step - loss: 1.0025 - accuracy: 0.5525 - val_loss: 1.0279 - val_accuracy: 0.5671\n",
      "Epoch 58/100\n",
      "29/29 [==============================] - 0s 4ms/step - loss: 0.9666 - accuracy: 0.5710 - val_loss: 1.0710 - val_accuracy: 0.5671\n"
     ]
    },
    {
     "name": "stdout",
     "output_type": "stream",
     "text": [
      "Epoch 59/100\n",
      "29/29 [==============================] - 0s 4ms/step - loss: 0.9670 - accuracy: 0.5872 - val_loss: 1.1058 - val_accuracy: 0.5366\n",
      "Epoch 60/100\n",
      "29/29 [==============================] - 0s 4ms/step - loss: 0.9792 - accuracy: 0.5699 - val_loss: 1.1023 - val_accuracy: 0.5366\n",
      "Epoch 61/100\n",
      "29/29 [==============================] - 0s 4ms/step - loss: 0.9820 - accuracy: 0.5525 - val_loss: 1.1287 - val_accuracy: 0.4878\n",
      "Epoch 62/100\n",
      "29/29 [==============================] - 0s 4ms/step - loss: 0.9656 - accuracy: 0.5807 - val_loss: 1.0240 - val_accuracy: 0.5732\n",
      "Epoch 63/100\n",
      "29/29 [==============================] - 0s 4ms/step - loss: 0.9475 - accuracy: 0.6035 - val_loss: 1.0267 - val_accuracy: 0.5976\n",
      "Epoch 64/100\n",
      "29/29 [==============================] - 0s 4ms/step - loss: 0.9644 - accuracy: 0.5948 - val_loss: 1.0367 - val_accuracy: 0.5854\n",
      "Epoch 65/100\n",
      "29/29 [==============================] - 0s 4ms/step - loss: 0.9537 - accuracy: 0.5894 - val_loss: 1.0228 - val_accuracy: 0.5793\n",
      "Epoch 66/100\n",
      "29/29 [==============================] - 0s 4ms/step - loss: 0.9605 - accuracy: 0.5915 - val_loss: 1.0849 - val_accuracy: 0.5244\n",
      "Epoch 67/100\n",
      "29/29 [==============================] - 0s 4ms/step - loss: 0.9696 - accuracy: 0.5915 - val_loss: 1.0309 - val_accuracy: 0.5793\n",
      "Epoch 68/100\n",
      "29/29 [==============================] - 0s 4ms/step - loss: 0.9540 - accuracy: 0.5905 - val_loss: 1.0234 - val_accuracy: 0.5732\n",
      "Epoch 69/100\n",
      "29/29 [==============================] - 0s 4ms/step - loss: 0.9522 - accuracy: 0.5861 - val_loss: 1.0342 - val_accuracy: 0.5854\n",
      "Epoch 70/100\n",
      "29/29 [==============================] - 0s 4ms/step - loss: 0.9456 - accuracy: 0.5861 - val_loss: 1.0727 - val_accuracy: 0.5488\n",
      "Epoch 71/100\n",
      "29/29 [==============================] - 0s 4ms/step - loss: 0.9573 - accuracy: 0.5948 - val_loss: 1.0194 - val_accuracy: 0.5976\n",
      "Epoch 72/100\n",
      "29/29 [==============================] - 0s 4ms/step - loss: 0.9551 - accuracy: 0.5861 - val_loss: 1.0252 - val_accuracy: 0.5793\n",
      "Epoch 73/100\n",
      "29/29 [==============================] - 0s 4ms/step - loss: 0.9575 - accuracy: 0.5937 - val_loss: 1.0581 - val_accuracy: 0.5549\n",
      "Epoch 74/100\n",
      "29/29 [==============================] - 0s 4ms/step - loss: 0.9426 - accuracy: 0.6024 - val_loss: 1.0412 - val_accuracy: 0.5793\n",
      "Epoch 75/100\n",
      "29/29 [==============================] - 0s 4ms/step - loss: 0.9466 - accuracy: 0.6100 - val_loss: 1.0374 - val_accuracy: 0.5671\n",
      "Epoch 76/100\n",
      "29/29 [==============================] - 0s 4ms/step - loss: 0.9760 - accuracy: 0.5655 - val_loss: 1.0138 - val_accuracy: 0.5732\n",
      "Epoch 77/100\n",
      "29/29 [==============================] - 0s 4ms/step - loss: 0.9223 - accuracy: 0.6035 - val_loss: 1.1563 - val_accuracy: 0.4695\n",
      "Epoch 78/100\n",
      "29/29 [==============================] - 0s 4ms/step - loss: 0.9556 - accuracy: 0.5872 - val_loss: 1.0512 - val_accuracy: 0.5610\n",
      "Epoch 79/100\n",
      "29/29 [==============================] - 0s 4ms/step - loss: 0.9384 - accuracy: 0.5948 - val_loss: 1.0362 - val_accuracy: 0.5854\n",
      "Epoch 80/100\n",
      "29/29 [==============================] - 0s 4ms/step - loss: 0.9384 - accuracy: 0.6046 - val_loss: 1.0348 - val_accuracy: 0.5915\n",
      "Epoch 81/100\n",
      "29/29 [==============================] - 0s 5ms/step - loss: 0.9338 - accuracy: 0.6046 - val_loss: 1.0741 - val_accuracy: 0.5366\n",
      "Epoch 82/100\n",
      "29/29 [==============================] - 0s 4ms/step - loss: 0.9511 - accuracy: 0.5883 - val_loss: 1.0558 - val_accuracy: 0.5854\n",
      "Epoch 83/100\n",
      "29/29 [==============================] - 0s 4ms/step - loss: 0.9497 - accuracy: 0.5872 - val_loss: 1.0107 - val_accuracy: 0.5854\n",
      "Epoch 84/100\n",
      "29/29 [==============================] - 0s 4ms/step - loss: 0.9370 - accuracy: 0.5937 - val_loss: 1.0289 - val_accuracy: 0.5854\n",
      "Epoch 85/100\n",
      "29/29 [==============================] - 0s 4ms/step - loss: 0.9317 - accuracy: 0.6154 - val_loss: 1.0482 - val_accuracy: 0.5793\n",
      "Epoch 86/100\n",
      "29/29 [==============================] - 0s 4ms/step - loss: 0.9688 - accuracy: 0.5590 - val_loss: 1.0836 - val_accuracy: 0.5488\n",
      "Epoch 87/100\n",
      "29/29 [==============================] - 0s 4ms/step - loss: 0.9572 - accuracy: 0.5536 - val_loss: 1.0233 - val_accuracy: 0.5671\n",
      "Epoch 88/100\n",
      "29/29 [==============================] - 0s 4ms/step - loss: 0.9267 - accuracy: 0.5937 - val_loss: 1.0207 - val_accuracy: 0.5793\n",
      "Epoch 89/100\n",
      "29/29 [==============================] - 0s 4ms/step - loss: 0.9221 - accuracy: 0.6056 - val_loss: 1.0057 - val_accuracy: 0.5915\n",
      "Epoch 90/100\n",
      "29/29 [==============================] - 0s 4ms/step - loss: 0.9415 - accuracy: 0.5926 - val_loss: 1.0631 - val_accuracy: 0.6098\n",
      "Epoch 91/100\n",
      "29/29 [==============================] - 0s 4ms/step - loss: 0.9257 - accuracy: 0.5970 - val_loss: 1.0391 - val_accuracy: 0.5305\n",
      "Epoch 92/100\n",
      "29/29 [==============================] - 0s 4ms/step - loss: 0.9278 - accuracy: 0.6024 - val_loss: 1.0135 - val_accuracy: 0.6037\n",
      "Epoch 93/100\n",
      "29/29 [==============================] - 0s 4ms/step - loss: 0.9383 - accuracy: 0.5937 - val_loss: 1.0293 - val_accuracy: 0.5976\n",
      "Epoch 94/100\n",
      "29/29 [==============================] - 0s 4ms/step - loss: 0.9404 - accuracy: 0.5948 - val_loss: 1.0325 - val_accuracy: 0.5793\n",
      "Epoch 95/100\n",
      "29/29 [==============================] - 0s 4ms/step - loss: 0.9196 - accuracy: 0.6111 - val_loss: 1.0624 - val_accuracy: 0.5488\n",
      "Epoch 96/100\n",
      "29/29 [==============================] - 0s 4ms/step - loss: 0.9236 - accuracy: 0.6046 - val_loss: 1.0509 - val_accuracy: 0.5061\n",
      "Epoch 97/100\n",
      "29/29 [==============================] - 0s 4ms/step - loss: 0.9290 - accuracy: 0.6013 - val_loss: 1.0248 - val_accuracy: 0.5671\n",
      "Epoch 98/100\n",
      "29/29 [==============================] - 0s 4ms/step - loss: 0.9208 - accuracy: 0.6046 - val_loss: 1.0152 - val_accuracy: 0.5976\n",
      "Epoch 99/100\n",
      "29/29 [==============================] - 0s 4ms/step - loss: 0.9268 - accuracy: 0.6002 - val_loss: 1.0254 - val_accuracy: 0.5854\n",
      "Epoch 100/100\n",
      "29/29 [==============================] - 0s 4ms/step - loss: 0.9310 - accuracy: 0.5829 - val_loss: 1.0603 - val_accuracy: 0.5549\n"
     ]
    },
    {
     "data": {
      "text/plain": [
       "<keras.src.callbacks.History at 0x19e2c66a130>"
      ]
     },
     "execution_count": 230,
     "metadata": {},
     "output_type": "execute_result"
    }
   ],
   "source": [
    "model.fit(X_train, Y_train_cat, epochs = 100, validation_split = 0.15)"
   ]
  },
  {
   "cell_type": "code",
   "execution_count": 231,
   "id": "87d27788",
   "metadata": {},
   "outputs": [
    {
     "name": "stdout",
     "output_type": "stream",
     "text": [
      "9/9 [==============================] - 0s 5ms/step - loss: 1.2183 - accuracy: 0.5037\n"
     ]
    },
    {
     "data": {
      "text/plain": [
       "[1.2182902097702026, 0.5036764740943909]"
      ]
     },
     "execution_count": 231,
     "metadata": {},
     "output_type": "execute_result"
    }
   ],
   "source": [
    "model.evaluate(X_test, Y_test_cat)"
   ]
  },
  {
   "cell_type": "code",
   "execution_count": null,
   "id": "7228044e",
   "metadata": {},
   "outputs": [],
   "source": []
  }
 ],
 "metadata": {
  "kernelspec": {
   "display_name": "Python 3 (ipykernel)",
   "language": "python",
   "name": "python3"
  },
  "language_info": {
   "codemirror_mode": {
    "name": "ipython",
    "version": 3
   },
   "file_extension": ".py",
   "mimetype": "text/x-python",
   "name": "python",
   "nbconvert_exporter": "python",
   "pygments_lexer": "ipython3",
   "version": "3.9.7"
  }
 },
 "nbformat": 4,
 "nbformat_minor": 5
}
